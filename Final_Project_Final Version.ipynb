{
 "cells": [
  {
   "cell_type": "markdown",
   "id": "fc9049b0-8a15-4c0d-87c2-6bb07bffa780",
   "metadata": {},
   "source": [
    "# Sentiment Analysis and Topic Modeling on Amazon Electronic Product"
   ]
  },
  {
   "cell_type": "markdown",
   "id": "14afe2da-484c-4afc-8e9c-7ee4e367b4a7",
   "metadata": {},
   "source": [
    "## Introduction\n",
    "\n",
    "In our increasingly digital society, e-commerce has become a vital aspect of our daily lives. The convenience, accessibility, and vast product options offered by online platforms have transformed the way we shop and conduct business. Within this context, customer reviews and ratings play a pivotal role in shaping consumer behavior and brand reputation. Thus in this project, we will utilize the data from Amazon produts to explore the relationship between rating and customer reviews. Based on the results, we will further look into what are the major topics of customer reviews."
   ]
  },
  {
   "cell_type": "markdown",
   "id": "b25261c0-7f20-4837-9a08-834e694faae2",
   "metadata": {},
   "source": [
    "## Research Questions\n",
    "\n",
    "#### 1. What is the relationship between Amazon electronic product reviews and rating? Will the rating increase as \n",
    "\n",
    "#### the product reviews appear to be positive or vice versa? \n",
    "\n",
    "\n",
    "\n",
    "\n",
    "#### 2. What are the most mentioned topics in the review?\n",
    "\n",
    "\n"
   ]
  },
  {
   "cell_type": "markdown",
   "id": "a85ae9d6-1e0a-42ee-bcb2-2ca96e4295ba",
   "metadata": {},
   "source": [
    "## Dataset Description"
   ]
  },
  {
   "cell_type": "markdown",
   "id": "91375c84-4e8f-44a8-b3ac-4eba34c4ad46",
   "metadata": {},
   "source": [
    "This dataset appears to be about various aspects of products available on Amazon. It includes information such as the product ID, product name, category, discounted price, actual price, discount percentage, rating, rating count, a description of the product, user IDs, user names, review IDs, review titles, review content, image links, and product links.\n",
    "It covers a wide range of electronic product, including televisions, computers and phones, and more. Each product has associated ratings, reviews, and user information.\n"
   ]
  },
  {
   "cell_type": "code",
   "execution_count": 34,
   "id": "df494edf-dd90-495d-a2f2-5f4566a40e03",
   "metadata": {
    "tags": []
   },
   "outputs": [
    {
     "name": "stdout",
     "output_type": "stream",
     "text": [
      "Requirement already satisfied: nltk in /opt/conda/lib/python3.10/site-packages (3.8.1)\n",
      "Requirement already satisfied: tqdm in /opt/conda/lib/python3.10/site-packages (from nltk) (4.65.0)\n",
      "Requirement already satisfied: click in /opt/conda/lib/python3.10/site-packages (from nltk) (8.1.3)\n",
      "Requirement already satisfied: regex>=2021.8.3 in /opt/conda/lib/python3.10/site-packages (from nltk) (2023.6.3)\n",
      "Requirement already satisfied: joblib in /opt/conda/lib/python3.10/site-packages (from nltk) (1.2.0)\n",
      "Requirement already satisfied: emoji in /opt/conda/lib/python3.10/site-packages (2.5.0)\n"
     ]
    }
   ],
   "source": [
    "!pip install nltk\n",
    "import nltk\n",
    "!pip install emoji\n",
    "import emoji\n",
    "import pandas as pd\n",
    "import re"
   ]
  },
  {
   "cell_type": "code",
   "execution_count": 35,
   "id": "73cc8614-2578-49de-8ca7-2aa878904b00",
   "metadata": {
    "tags": []
   },
   "outputs": [
    {
     "data": {
      "text/html": [
       "<div>\n",
       "<style scoped>\n",
       "    .dataframe tbody tr th:only-of-type {\n",
       "        vertical-align: middle;\n",
       "    }\n",
       "\n",
       "    .dataframe tbody tr th {\n",
       "        vertical-align: top;\n",
       "    }\n",
       "\n",
       "    .dataframe thead th {\n",
       "        text-align: right;\n",
       "    }\n",
       "</style>\n",
       "<table border=\"1\" class=\"dataframe\">\n",
       "  <thead>\n",
       "    <tr style=\"text-align: right;\">\n",
       "      <th></th>\n",
       "      <th>product_id</th>\n",
       "      <th>product_name</th>\n",
       "      <th>category</th>\n",
       "      <th>discounted_price</th>\n",
       "      <th>actual_price</th>\n",
       "      <th>discount_percentage</th>\n",
       "      <th>rating</th>\n",
       "      <th>rating_count</th>\n",
       "      <th>about_product</th>\n",
       "      <th>user_id</th>\n",
       "      <th>user_name</th>\n",
       "      <th>review_id</th>\n",
       "      <th>review_title</th>\n",
       "      <th>review_content</th>\n",
       "      <th>img_link</th>\n",
       "      <th>product_link</th>\n",
       "    </tr>\n",
       "  </thead>\n",
       "  <tbody>\n",
       "    <tr>\n",
       "      <th>count</th>\n",
       "      <td>1465</td>\n",
       "      <td>1465</td>\n",
       "      <td>1465</td>\n",
       "      <td>1465</td>\n",
       "      <td>1465</td>\n",
       "      <td>1465</td>\n",
       "      <td>1465</td>\n",
       "      <td>1463</td>\n",
       "      <td>1465</td>\n",
       "      <td>1465</td>\n",
       "      <td>1465</td>\n",
       "      <td>1465</td>\n",
       "      <td>1465</td>\n",
       "      <td>1465</td>\n",
       "      <td>1465</td>\n",
       "      <td>1465</td>\n",
       "    </tr>\n",
       "    <tr>\n",
       "      <th>unique</th>\n",
       "      <td>1351</td>\n",
       "      <td>1337</td>\n",
       "      <td>211</td>\n",
       "      <td>550</td>\n",
       "      <td>449</td>\n",
       "      <td>92</td>\n",
       "      <td>28</td>\n",
       "      <td>1143</td>\n",
       "      <td>1293</td>\n",
       "      <td>1194</td>\n",
       "      <td>1194</td>\n",
       "      <td>1194</td>\n",
       "      <td>1194</td>\n",
       "      <td>1212</td>\n",
       "      <td>1412</td>\n",
       "      <td>1465</td>\n",
       "    </tr>\n",
       "    <tr>\n",
       "      <th>top</th>\n",
       "      <td>B07JW9H4J1</td>\n",
       "      <td>Fire-Boltt Ninja Call Pro Plus 1.83\" Smart Wat...</td>\n",
       "      <td>Computers&amp;Accessories|Accessories&amp;Peripherals|...</td>\n",
       "      <td>₹199.00</td>\n",
       "      <td>₹999.00</td>\n",
       "      <td>50%</td>\n",
       "      <td>4.1</td>\n",
       "      <td>9,378</td>\n",
       "      <td>[CHARGE &amp; SYNC FUNCTION]- This cable comes wit...</td>\n",
       "      <td>AHIKJUDTVJ4T6DV6IUGFYZ5LXMPA,AE55KTFVNXYFD5FPY...</td>\n",
       "      <td>$@|\\|TO$|-|,Sethu madhav,Akash Thakur,Burger P...</td>\n",
       "      <td>R3F4T5TRYPTMIG,R3DQIEC603E7AY,R1O4Z15FD40PV5,R...</td>\n",
       "      <td>Worked on iPhone 7 and didn’t work on XR,Good ...</td>\n",
       "      <td>I am not big on camera usage, personally. I wa...</td>\n",
       "      <td>https://m.media-amazon.com/images/I/413sCRKobN...</td>\n",
       "      <td>https://www.amazon.in/Wayona-Braided-WN3LG1-Sy...</td>\n",
       "    </tr>\n",
       "    <tr>\n",
       "      <th>freq</th>\n",
       "      <td>3</td>\n",
       "      <td>5</td>\n",
       "      <td>233</td>\n",
       "      <td>53</td>\n",
       "      <td>120</td>\n",
       "      <td>56</td>\n",
       "      <td>244</td>\n",
       "      <td>9</td>\n",
       "      <td>6</td>\n",
       "      <td>10</td>\n",
       "      <td>10</td>\n",
       "      <td>10</td>\n",
       "      <td>10</td>\n",
       "      <td>8</td>\n",
       "      <td>3</td>\n",
       "      <td>1</td>\n",
       "    </tr>\n",
       "  </tbody>\n",
       "</table>\n",
       "</div>"
      ],
      "text/plain": [
       "        product_id                                       product_name  \\\n",
       "count         1465                                               1465   \n",
       "unique        1351                                               1337   \n",
       "top     B07JW9H4J1  Fire-Boltt Ninja Call Pro Plus 1.83\" Smart Wat...   \n",
       "freq             3                                                  5   \n",
       "\n",
       "                                                 category discounted_price  \\\n",
       "count                                                1465             1465   \n",
       "unique                                                211              550   \n",
       "top     Computers&Accessories|Accessories&Peripherals|...          ₹199.00   \n",
       "freq                                                  233               53   \n",
       "\n",
       "       actual_price discount_percentage rating rating_count  \\\n",
       "count          1465                1465   1465         1463   \n",
       "unique          449                  92     28         1143   \n",
       "top         ₹999.00                 50%    4.1        9,378   \n",
       "freq            120                  56    244            9   \n",
       "\n",
       "                                            about_product  \\\n",
       "count                                                1465   \n",
       "unique                                               1293   \n",
       "top     [CHARGE & SYNC FUNCTION]- This cable comes wit...   \n",
       "freq                                                    6   \n",
       "\n",
       "                                                  user_id  \\\n",
       "count                                                1465   \n",
       "unique                                               1194   \n",
       "top     AHIKJUDTVJ4T6DV6IUGFYZ5LXMPA,AE55KTFVNXYFD5FPY...   \n",
       "freq                                                   10   \n",
       "\n",
       "                                                user_name  \\\n",
       "count                                                1465   \n",
       "unique                                               1194   \n",
       "top     $@|\\|TO$|-|,Sethu madhav,Akash Thakur,Burger P...   \n",
       "freq                                                   10   \n",
       "\n",
       "                                                review_id  \\\n",
       "count                                                1465   \n",
       "unique                                               1194   \n",
       "top     R3F4T5TRYPTMIG,R3DQIEC603E7AY,R1O4Z15FD40PV5,R...   \n",
       "freq                                                   10   \n",
       "\n",
       "                                             review_title  \\\n",
       "count                                                1465   \n",
       "unique                                               1194   \n",
       "top     Worked on iPhone 7 and didn’t work on XR,Good ...   \n",
       "freq                                                   10   \n",
       "\n",
       "                                           review_content  \\\n",
       "count                                                1465   \n",
       "unique                                               1212   \n",
       "top     I am not big on camera usage, personally. I wa...   \n",
       "freq                                                    8   \n",
       "\n",
       "                                                 img_link  \\\n",
       "count                                                1465   \n",
       "unique                                               1412   \n",
       "top     https://m.media-amazon.com/images/I/413sCRKobN...   \n",
       "freq                                                    3   \n",
       "\n",
       "                                             product_link  \n",
       "count                                                1465  \n",
       "unique                                               1465  \n",
       "top     https://www.amazon.in/Wayona-Braided-WN3LG1-Sy...  \n",
       "freq                                                    1  "
      ]
     },
     "execution_count": 35,
     "metadata": {},
     "output_type": "execute_result"
    }
   ],
   "source": [
    "csv_file = \"amazon.csv\"\n",
    "df = pd.read_csv(csv_file)\n",
    "df.describe()"
   ]
  },
  {
   "cell_type": "markdown",
   "id": "ce990f87-9b40-4b36-b3e4-0bd86d4b25c0",
   "metadata": {},
   "source": [
    "## Preprocessing"
   ]
  },
  {
   "cell_type": "markdown",
   "id": "9d264783-5ab9-4dc3-9df2-2f92ef697a26",
   "metadata": {},
   "source": [
    "The preprocessing steps included removing URL links, mentions, stopwords, extra spaces and special characters,  and hashtags, as they do not contribute to the analysis of the reviews. Tokenization was performed to break the text into individual tokens, and lemmatization was applied to reduce words to their base form. These preprocessing steps were relevant to our research questions of exploring the relationship between Amazon electronic product reviews and ratings, as well as identifying the prominent topics discussed in the reviews. By cleaning and structuring the text data, we were able to extract meaningful insights from the dataset. "
   ]
  },
  {
   "cell_type": "code",
   "execution_count": 36,
   "id": "f9fc3398-428a-4730-a5cb-13b0503ccea1",
   "metadata": {
    "tags": []
   },
   "outputs": [
    {
     "name": "stderr",
     "output_type": "stream",
     "text": [
      "[nltk_data] Downloading package punkt to /home/jovyan/nltk_data...\n",
      "[nltk_data]   Package punkt is already up-to-date!\n",
      "[nltk_data] Downloading package stopwords to /home/jovyan/nltk_data...\n",
      "[nltk_data]   Package stopwords is already up-to-date!\n",
      "[nltk_data] Downloading package wordnet to /home/jovyan/nltk_data...\n",
      "[nltk_data]   Package wordnet is already up-to-date!\n"
     ]
    },
    {
     "data": {
      "text/plain": [
       "0       looks durable charging is fine toono complains...\n",
       "1       i ordered this cable to connect my phone to an...\n",
       "2       not quite durable and sturdy  good  nice produ...\n",
       "3       good product long wire charges good nice i bou...\n",
       "4       bought this instead of original apple  does th...\n",
       "                              ...                        \n",
       "1460    i received product without spanner excellent p...\n",
       "1461    ok got everything as mentioned but the measuri...\n",
       "1462    plastic but cool body  u have to find sturdy s...\n",
       "1463    i have installed this in my kitchen working fi...\n",
       "1464    it does it job perfectly  only issue is temp c...\n",
       "Name: cleaned_text, Length: 1465, dtype: object"
      ]
     },
     "execution_count": 36,
     "metadata": {},
     "output_type": "execute_result"
    }
   ],
   "source": [
    "import re\n",
    "import pandas as pd\n",
    "import nltk\n",
    "from nltk.corpus import stopwords\n",
    "from nltk.stem import WordNetLemmatizer\n",
    "import string\n",
    "nltk.download('punkt')\n",
    "nltk.download('stopwords')\n",
    "nltk.download('wordnet')\n",
    "def clean_text(text):\n",
    "    if pd.isna(text):\n",
    "        return text\n",
    "    text = re.sub(r'http\\S+|www\\S+|https\\S+', '', text, flags=re.MULTILINE)  # remove URLs\n",
    "    text = re.sub(r'@\\w+', '', text)  # remove mentions\n",
    "    text = re.sub(r'#\\w+', '', text)  # remove hashtags\n",
    "    text = re.sub(r'\\s+', ' ', text)  # remove extra spaces\n",
    "    text = re.sub(r'\\W', ' ', text)  # remove special characters\n",
    "    text = text.lower()\n",
    "    text = text.translate(str.maketrans('', '', string.punctuation))\n",
    "    tokens = nltk.word_tokenize(text)\n",
    "    stop_words = set(stopwords.words('english'))\n",
    "    tokens = [word for word in tokens if word not in stop_words]\n",
    "    lemmatizer = WordNetLemmatizer()\n",
    "    lemmatized_tokens = [lemmatizer.lemmatize(word) for word in tokens]\n",
    "    return text.strip()\n",
    "# Apply clean_text function to the column\n",
    "df['cleaned_text'] = df['review_content'].apply(clean_text)\n",
    "df['cleaned_text']"
   ]
  },
  {
   "cell_type": "markdown",
   "id": "0d4b1098-ddea-4726-bb9f-5db3864dde04",
   "metadata": {},
   "source": [
    "## Analysis"
   ]
  },
  {
   "cell_type": "markdown",
   "id": "6c0eb5ec-1cfa-4bfe-a2e2-a73bc8f3141e",
   "metadata": {},
   "source": [
    "In analysis, we first applied sentiment analysis to analyze the content of product reviews are positive or negative to explore the first research question. Then we applied topic modeling to discover what are some most mentioned topics in the product reviews, and based on the result of sentiment analysis to further analyze. "
   ]
  },
  {
   "cell_type": "markdown",
   "id": "68b06179-10a0-403b-9516-7f5a92ce42c3",
   "metadata": {},
   "source": [
    "### Sentiment Analysis"
   ]
  },
  {
   "cell_type": "code",
   "execution_count": 41,
   "id": "e8e417af-a993-4759-9acc-2bfd37ff2888",
   "metadata": {
    "tags": []
   },
   "outputs": [
    {
     "name": "stdout",
     "output_type": "stream",
     "text": [
      "Requirement already satisfied: nltk in /opt/conda/lib/python3.10/site-packages (3.8.1)\n",
      "Requirement already satisfied: tqdm in /opt/conda/lib/python3.10/site-packages (from nltk) (4.65.0)\n",
      "Requirement already satisfied: click in /opt/conda/lib/python3.10/site-packages (from nltk) (8.1.3)\n",
      "Requirement already satisfied: regex>=2021.8.3 in /opt/conda/lib/python3.10/site-packages (from nltk) (2023.6.3)\n",
      "Requirement already satisfied: joblib in /opt/conda/lib/python3.10/site-packages (from nltk) (1.2.0)\n",
      "Requirement already satisfied: textblob in /opt/conda/lib/python3.10/site-packages (0.17.1)\n",
      "Requirement already satisfied: nltk>=3.1 in /opt/conda/lib/python3.10/site-packages (from textblob) (3.8.1)\n",
      "Requirement already satisfied: tqdm in /opt/conda/lib/python3.10/site-packages (from nltk>=3.1->textblob) (4.65.0)\n",
      "Requirement already satisfied: click in /opt/conda/lib/python3.10/site-packages (from nltk>=3.1->textblob) (8.1.3)\n",
      "Requirement already satisfied: joblib in /opt/conda/lib/python3.10/site-packages (from nltk>=3.1->textblob) (1.2.0)\n",
      "Requirement already satisfied: regex>=2021.8.3 in /opt/conda/lib/python3.10/site-packages (from nltk>=3.1->textblob) (2023.6.3)\n"
     ]
    }
   ],
   "source": [
    "!pip install nltk \n",
    "!pip install -U textblob\n",
    "import pandas as pd\n",
    "import nltk\n",
    "from nltk.sentiment.vader import SentimentIntensityAnalyzer\n",
    "from textblob import TextBlob\n",
    "import re\n",
    "from nltk.sentiment.vader import SentimentIntensityAnalyzer\n",
    "import nltk\n",
    "# Define a function for sentiment analysis using TextBlob\n",
    "def get_sentiment_textblob(text):\n",
    "    sentiment = TextBlob(text).sentiment.polarity\n",
    "    if sentiment > 0:\n",
    "        return \"Positive\"\n",
    "    elif sentiment < 0:\n",
    "        return \"Negative\"\n",
    "    else:\n",
    "        return \"Neutral\"\n",
    "# get continuous textblob sentiment scores\n",
    "def get_sent_textblob_cont(text):\n",
    "    return TextBlob(text).sentiment.polarity\n",
    "    \n",
    "# get continuous textblob sentiment scores\n",
    "def get_sent_vader_cont(text):\n",
    "    sia = SentimentIntensityAnalyzer()\n",
    "    return sia.polarity_scores(text)['compound']\n",
    "\n",
    "# Apply sentiment analysis functions\n",
    "df['sentiment_textblob'] = df['cleaned_text'].apply(get_sentiment_textblob)\n",
    "df['sent_textblob_cont'] = df['cleaned_text'].apply(get_sent_textblob_cont)\n",
    "df[\"get_sentiment\"] = df['cleaned_text'].apply(get_sentiment)"
   ]
  },
  {
   "cell_type": "code",
   "execution_count": 42,
   "id": "2a2fd9c6-ffe6-4009-b919-b6c710ffe279",
   "metadata": {
    "tags": []
   },
   "outputs": [
    {
     "data": {
      "text/plain": [
       "0       positive\n",
       "1       positive\n",
       "2       positive\n",
       "3       positive\n",
       "4       positive\n",
       "          ...   \n",
       "1460    positive\n",
       "1461    positive\n",
       "1462    positive\n",
       "1463    positive\n",
       "1464    positive\n",
       "Name: get_sentiment, Length: 1465, dtype: object"
      ]
     },
     "execution_count": 42,
     "metadata": {},
     "output_type": "execute_result"
    }
   ],
   "source": [
    "df[\"get_sentiment\"]"
   ]
  },
  {
   "cell_type": "code",
   "execution_count": 9,
   "id": "f91e980c-c796-451c-99b4-788dafb51930",
   "metadata": {
    "tags": []
   },
   "outputs": [
    {
     "name": "stdout",
     "output_type": "stream",
     "text": [
      "TextBlob Sentiment Distribution:\n",
      "Positive    1457\n",
      "Negative       8\n",
      "Name: sentiment_textblob, dtype: int64\n"
     ]
    }
   ],
   "source": [
    "# Count the sentiment label occurrences for TextBlob\n",
    "textblob_sentiment_counts = df['sentiment_textblob'].value_counts()\n",
    "# Print the distribution of sentiment labels for TextBlob\n",
    "print(\"TextBlob Sentiment Distribution:\")\n",
    "print(textblob_sentiment_counts)"
   ]
  },
  {
   "cell_type": "code",
   "execution_count": 10,
   "id": "0315b037-a5cd-4736-9773-dd41c5c8eb55",
   "metadata": {
    "tags": []
   },
   "outputs": [
    {
     "name": "stdout",
     "output_type": "stream",
     "text": [
      "TextBlob Sentiment Summary:\n",
      "count    1465.000000\n",
      "mean        0.307371\n",
      "std         0.131019\n",
      "min        -0.600000\n",
      "25%         0.216495\n",
      "50%         0.297222\n",
      "75%         0.391415\n",
      "max         0.836667\n",
      "Name: sent_textblob_cont, dtype: float64\n"
     ]
    }
   ],
   "source": [
    "# Calculate the summary statistics of continuous sentiment scores for TextBlob\n",
    "textblob_sentiment_summary = df['sent_textblob_cont'].describe()\n",
    "# Print the summary statistics of continuous sentiment scores for TextBlob\n",
    "print(\"TextBlob Sentiment Summary:\")\n",
    "print(textblob_sentiment_summary)"
   ]
  },
  {
   "cell_type": "markdown",
   "id": "6f43f402-b1b8-418e-a611-77e2e3784923",
   "metadata": {},
   "source": [
    "### Topic Modeling "
   ]
  },
  {
   "cell_type": "code",
   "execution_count": 12,
   "id": "65056bcc-15d0-444f-a77b-44085c992e5a",
   "metadata": {
    "tags": []
   },
   "outputs": [
    {
     "name": "stderr",
     "output_type": "stream",
     "text": [
      "[nltk_data] Downloading package stopwords to /home/jovyan/nltk_data...\n",
      "[nltk_data]   Package stopwords is already up-to-date!\n"
     ]
    },
    {
     "name": "stdout",
     "output_type": "stream",
     "text": [
      "\n",
      "Topic #1:\n",
      "tv good quality sound remote\n",
      "\n",
      "Topic #2:\n",
      "product good use easy quality\n",
      "\n",
      "Topic #3:\n",
      "use product good easy power\n",
      "\n",
      "Topic #4:\n",
      "good watch phone battery camera\n",
      "\n",
      "Topic #5:\n",
      "good cable product quality charging\n",
      "\n",
      "Topic #6:\n",
      "good product use water quality\n"
     ]
    }
   ],
   "source": [
    "import pandas as pd\n",
    "from sklearn.feature_extraction.text import CountVectorizer\n",
    "from sklearn.decomposition import LatentDirichletAllocation as LDA\n",
    "import re\n",
    "import nltk\n",
    "from nltk.corpus import stopwords\n",
    "# Make sure you have the stop words package downloaded\n",
    "nltk.download('stopwords')\n",
    "stop_words = set(stopwords.words('english'))\n",
    "from nltk.stem import PorterStemmer\n",
    "stemmer = PorterStemmer()\n",
    "documents = df['cleaned_text']\n",
    "\n",
    "# Initialize CountVectorizer\n",
    "count_vectorizer = CountVectorizer(stop_words='english')\n",
    "\n",
    "# Fit and transform the processed titles\n",
    "count_data = count_vectorizer.fit_transform(documents)\n",
    "number_topics = 6\n",
    "number_words = 5\n",
    "\n",
    "# Create and fit the LDA model\n",
    "lda = LDA(n_components=number_topics, n_jobs=-1, random_state=42)\n",
    "lda.fit(count_data)\n",
    "def print_topics(model, count_vectorizer, n_top_words):\n",
    "    words = count_vectorizer.get_feature_names_out()\n",
    "    for topic_idx, topic in enumerate(model.components_):\n",
    "        print(\"\\nTopic #%d:\" % (topic_idx+1))\n",
    "        print(\" \".join([words[i]\n",
    "                        for i in topic.argsort()[:-n_top_words - 1:-1]]))\n",
    "\n",
    "print_topics(lda, count_vectorizer, number_words)"
   ]
  },
  {
   "cell_type": "markdown",
   "id": "383b7760-6186-438d-9371-60d9e3fe4864",
   "metadata": {},
   "source": [
    "## Visualization"
   ]
  },
  {
   "cell_type": "markdown",
   "id": "e7bae55f-1c81-4aee-b77a-c6bd25c10e2f",
   "metadata": {},
   "source": [
    "#### Sentiment Analysis: Distribution of Sentiment Scores of Product Reviews"
   ]
  },
  {
   "cell_type": "code",
   "execution_count": 43,
   "id": "d9786ed3-4b8b-4144-8f0c-2e4365debe1c",
   "metadata": {
    "tags": []
   },
   "outputs": [
    {
     "data": {
      "image/png": "[encoded data removed]",
      "text/plain": [
       "<Figure size 640x480 with 1 Axes>"
      ]
     },
     "metadata": {},
     "output_type": "display_data"
    }
   ],
   "source": [
    "import matplotlib.pyplot as plt\n",
    "import seaborn as sns\n",
    "# Create a count plot\n",
    "sns.countplot(data=df, x='get_sentiment')\n",
    "sns.countplot(x=\"sentiment_textblob\", data=df, label=\"Product Reviews\", color='purple', alpha=0.5)\n",
    "plt.legend()\n",
    "plt.title('Distribution of Sentiment Scores of Product Reviews')\n",
    "plt.show()"
   ]
  },
  {
   "cell_type": "markdown",
   "id": "177a3224-dbdf-4ab4-a5d9-4395bcbd8a0a",
   "metadata": {},
   "source": [
    "#### Sentiment Analysis: Sentiment Scores of Product Reviews vs. Rating (Scatterplot)"
   ]
  },
  {
   "cell_type": "code",
   "execution_count": 45,
   "id": "d81db7f7-85bc-4608-9017-e9a1913f36f9",
   "metadata": {
    "tags": []
   },
   "outputs": [
    {
     "data": {
      "image/png": "[encoded data removed]",
      "text/plain": [
       "<Figure size 1000x500 with 1 Axes>"
      ]
     },
     "metadata": {},
     "output_type": "display_data"
    }
   ],
   "source": [
    "import pandas as pd\n",
    "import matplotlib.pyplot as plt\n",
    "import seaborn as sns\n",
    "import matplotlib.ticker as mtick\n",
    "# Convert 'rating' column to numeric data type\n",
    "df['rating'] = pd.to_numeric(df['rating'], errors='coerce')\n",
    "plt.figure(figsize=(10, 5))\n",
    "sns.scatterplot(x=\"sent_textblob_cont\", y=\"rating\", data=df, label=\"TextBlob\", color='blue', alpha=0.5)\n",
    "# Specify the tick positions for the y-axis\n",
    "tick_positions = range(int(min(df['rating'].dropna())), int(max(df['rating'].dropna()))+1)\n",
    "plt.yticks(tick_positions)\n",
    "# Format y-axis tick labels with one decimal point\n",
    "plt.gca().yaxis.set_major_formatter(mtick.FormatStrFormatter('%.1f'))\n",
    "plt.legend()\n",
    "plt.title('Sentiment Scores of Product Reviews vs. Rating')\n",
    "plt.show()"
   ]
  },
  {
   "cell_type": "markdown",
   "id": "b51ccff9-e506-414f-a198-231da820a7bd",
   "metadata": {},
   "source": [
    "#### Topic Modeling: Topic Clusters"
   ]
  },
  {
   "cell_type": "code",
   "execution_count": 26,
   "id": "66c3460e-3523-4f57-b32c-822625c1e2bc",
   "metadata": {
    "tags": []
   },
   "outputs": [
    {
     "name": "stdout",
     "output_type": "stream",
     "text": [
      "[t-SNE] Computing 91 nearest neighbors...\n",
      "[t-SNE] Indexed 1448 samples in 0.001s...\n",
      "[t-SNE] Computed neighbors for 1448 samples in 0.082s...\n",
      "[t-SNE] Computed conditional probabilities for sample 1000 / 1448\n",
      "[t-SNE] Computed conditional probabilities for sample 1448 / 1448\n",
      "[t-SNE] Mean sigma: 0.002273\n",
      "[t-SNE] KL divergence after 250 iterations with early exaggeration: 57.884144\n",
      "[t-SNE] KL divergence after 1000 iterations: 0.375950\n",
      "Collecting bokeh\n",
      "  Using cached bokeh-3.1.1-py3-none-any.whl (8.3 MB)\n",
      "Requirement already satisfied: PyYAML>=3.10 in /opt/conda/lib/python3.10/site-packages (from bokeh) (6.0)\n",
      "Collecting xyzservices>=2021.09.1\n",
      "  Using cached xyzservices-2023.5.0-py3-none-any.whl (56 kB)\n",
      "Requirement already satisfied: packaging>=16.8 in /opt/conda/lib/python3.10/site-packages (from bokeh) (23.0)\n",
      "Requirement already satisfied: tornado>=5.1 in /opt/conda/lib/python3.10/site-packages (from bokeh) (6.2)\n",
      "Requirement already satisfied: contourpy>=1 in /opt/conda/lib/python3.10/site-packages (from bokeh) (1.0.7)\n",
      "Requirement already satisfied: pillow>=7.1.0 in /opt/conda/lib/python3.10/site-packages (from bokeh) (9.4.0)\n",
      "Requirement already satisfied: Jinja2>=2.9 in /opt/conda/lib/python3.10/site-packages (from bokeh) (3.1.2)\n",
      "Requirement already satisfied: numpy>=1.16 in /opt/conda/lib/python3.10/site-packages (from bokeh) (1.24.2)\n",
      "Requirement already satisfied: pandas>=1.2 in /opt/conda/lib/python3.10/site-packages (from bokeh) (1.5.3)\n",
      "Requirement already satisfied: MarkupSafe>=2.0 in /opt/conda/lib/python3.10/site-packages (from Jinja2>=2.9->bokeh) (2.1.2)\n",
      "Requirement already satisfied: python-dateutil>=2.8.1 in /opt/conda/lib/python3.10/site-packages (from pandas>=1.2->bokeh) (2.8.2)\n",
      "Requirement already satisfied: pytz>=2020.1 in /opt/conda/lib/python3.10/site-packages (from pandas>=1.2->bokeh) (2022.7.1)\n",
      "Requirement already satisfied: six>=1.5 in /opt/conda/lib/python3.10/site-packages (from python-dateutil>=2.8.1->pandas>=1.2->bokeh) (1.16.0)\n",
      "Installing collected packages: xyzservices, bokeh\n",
      "Successfully installed bokeh-3.1.1 xyzservices-2023.5.0\n"
     ]
    }
   ],
   "source": [
    "import matplotlib.pyplot as plt\n",
    "import matplotlib.colors as mcolors\n",
    "import numpy as np\n",
    "from sklearn.manifold import TSNE\n",
    "\n",
    "# Get topic weights\n",
    "topic_weights = []\n",
    "for i, row_list in enumerate(lda.transform(count_data)):\n",
    "    topic_weights.append([w for i, w in enumerate(row_list)])\n",
    "\n",
    "# Array of topic weights    \n",
    "arr = pd.DataFrame(topic_weights).fillna(0).values\n",
    "\n",
    "# Keep the well separated points (optional)\n",
    "arr = arr[np.amax(arr, axis=1) > 0.35]\n",
    "\n",
    "# Dominant topic number in each doc\n",
    "topic_num = np.argmax(arr, axis=1)\n",
    "\n",
    "# tSNE Dimension Reduction\n",
    "tsne_model = TSNE(n_components=2, verbose=1, random_state=0, angle=.99, init='pca')\n",
    "tsne_lda = tsne_model.fit_transform(arr)\n",
    "!pip install bokeh"
   ]
  },
  {
   "cell_type": "code",
   "execution_count": 29,
   "id": "30e70dc7-a597-450a-8c67-354ac7d59e2a",
   "metadata": {
    "tags": []
   },
   "outputs": [
    {
     "data": {
      "text/html": [
       "<style>\n",
       "        .bk-notebook-logo {\n",
       "            display: block;\n",
       "            width: 20px;\n",
       "            height: 20px;\n",
       "            background-image: url(data:image/png;base64,iVBORw0KGgoAAAANSUhEUgAAABQAAAAUCAYAAACNiR0NAAAABHNCSVQICAgIfAhkiAAAAAlwSFlzAAALEgAACxIB0t1+/AAAABx0RVh0U29mdHdhcmUAQWRvYmUgRmlyZXdvcmtzIENTNui8sowAAAOkSURBVDiNjZRtaJVlGMd/1/08zzln5zjP1LWcU9N0NkN8m2CYjpgQYQXqSs0I84OLIC0hkEKoPtiH3gmKoiJDU7QpLgoLjLIQCpEsNJ1vqUOdO7ppbuec5+V+rj4ctwzd8IIbbi6u+8f1539dt3A78eXC7QizUF7gyV1fD1Yqg4JWz84yffhm0qkFqBogB9rM8tZdtwVsPUhWhGcFJngGeWrPzHm5oaMmkfEg1usvLFyc8jLRqDOMru7AyC8saQr7GG7f5fvDeH7Ej8CM66nIF+8yngt6HWaKh7k49Soy9nXurCi1o3qUbS3zWfrYeQDTB/Qj6kX6Ybhw4B+bOYoLKCC9H3Nu/leUTZ1JdRWkkn2ldcCamzrcf47KKXdAJllSlxAOkRgyHsGC/zRday5Qld9DyoM4/q/rUoy/CXh3jzOu3bHUVZeU+DEn8FInkPBFlu3+nW3Nw0mk6vCDiWg8CeJaxEwuHS3+z5RgY+YBR6V1Z1nxSOfoaPa4LASWxxdNp+VWTk7+4vzaou8v8PN+xo+KY2xsw6une2frhw05CTYOmQvsEhjhWjn0bmXPjpE1+kplmmkP3suftwTubK9Vq22qKmrBhpY4jvd5afdRA3wGjFAgcnTK2s4hY0/GPNIb0nErGMCRxWOOX64Z8RAC4oCXdklmEvcL8o0BfkNK4lUg9HTl+oPlQxdNo3Mg4Nv175e/1LDGzZen30MEjRUtmXSfiTVu1kK8W4txyV6BMKlbgk3lMwYCiusNy9fVfvvwMxv8Ynl6vxoByANLTWplvuj/nF9m2+PDtt1eiHPBr1oIfhCChQMBw6Aw0UulqTKZdfVvfG7VcfIqLG9bcldL/+pdWTLxLUy8Qq38heUIjh4XlzZxzQm19lLFlr8vdQ97rjZVOLf8nclzckbcD4wxXMidpX30sFd37Fv/GtwwhzhxGVAprjbg0gCAEeIgwCZyTV2Z1REEW8O4py0wsjeloKoMr6iCY6dP92H6Vw/oTyICIthibxjm/DfN9lVz8IqtqKYLUXfoKVMVQVVJOElGjrnnUt9T9wbgp8AyYKaGlqingHZU/uG2NTZSVqwHQTWkx9hxjkpWDaCg6Ckj5qebgBVbT3V3NNXMSiWSDdGV3hrtzla7J+duwPOToIg42ChPQOQjspnSlp1V+Gjdged7+8UN5CRAV7a5EdFNwCjEaBR27b3W890TE7g24NAP/mMDXRWrGoFPQI9ls/MWO2dWFAar/xcOIImbbpA3zgAAAABJRU5ErkJggg==);\n",
       "        }\n",
       "    </style>\n",
       "    <div>\n",
       "        <a href=\"https://bokeh.org\" target=\"_blank\" class=\"bk-notebook-logo\"></a>\n",
       "        <span id=\"c708c2d7-249d-4b29-b350-8c6fa7fd21ef\">Loading BokehJS ...</span>\n",
       "    </div>\n"
      ]
     },
     "metadata": {},
     "output_type": "display_data"
    },
    {
     "data": {
      "application/javascript": [
       "(function(root) {\n",
       "  function now() {\n",
       "    return new Date();\n",
       "  }\n",
       "\n",
       "  const force = true;\n",
       "\n",
       "  if (typeof root._bokeh_onload_callbacks === \"undefined\" || force === true) {\n",
       "    root._bokeh_onload_callbacks = [];\n",
       "    root._bokeh_is_loading = undefined;\n",
       "  }\n",
       "\n",
       "const JS_MIME_TYPE = 'application/javascript';\n",
       "  const HTML_MIME_TYPE = 'text/html';\n",
       "  const EXEC_MIME_TYPE = 'application/vnd.bokehjs_exec.v0+json';\n",
       "  const CLASS_NAME = 'output_bokeh rendered_html';\n",
       "\n",
       "  /**\n",
       "   * Render data to the DOM node\n",
       "   */\n",
       "  function render(props, node) {\n",
       "    const script = document.createElement(\"script\");\n",
       "    node.appendChild(script);\n",
       "  }\n",
       "\n",
       "  /**\n",
       "   * Handle when an output is cleared or removed\n",
       "   */\n",
       "  function handleClearOutput(event, handle) {\n",
       "    const cell = handle.cell;\n",
       "\n",
       "    const id = cell.output_area._bokeh_element_id;\n",
       "    const server_id = cell.output_area._bokeh_server_id;\n",
       "    // Clean up Bokeh references\n",
       "    if (id != null && id in Bokeh.index) {\n",
       "      Bokeh.index[id].model.document.clear();\n",
       "      delete Bokeh.index[id];\n",
       "    }\n",
       "\n",
       "    if (server_id !== undefined) {\n",
       "      // Clean up Bokeh references\n",
       "      const cmd_clean = \"from bokeh.io.state import curstate; print(curstate().uuid_to_server['\" + server_id + \"'].get_sessions()[0].document.roots[0]._id)\";\n",
       "      cell.notebook.kernel.execute(cmd_clean, {\n",
       "        iopub: {\n",
       "          output: function(msg) {\n",
       "            const id = msg.content.text.trim();\n",
       "            if (id in Bokeh.index) {\n",
       "              Bokeh.index[id].model.document.clear();\n",
       "              delete Bokeh.index[id];\n",
       "            }\n",
       "          }\n",
       "        }\n",
       "      });\n",
       "      // Destroy server and session\n",
       "      const cmd_destroy = \"import bokeh.io.notebook as ion; ion.destroy_server('\" + server_id + \"')\";\n",
       "      cell.notebook.kernel.execute(cmd_destroy);\n",
       "    }\n",
       "  }\n",
       "\n",
       "  /**\n",
       "   * Handle when a new output is added\n",
       "   */\n",
       "  function handleAddOutput(event, handle) {\n",
       "    const output_area = handle.output_area;\n",
       "    const output = handle.output;\n",
       "\n",
       "    // limit handleAddOutput to display_data with EXEC_MIME_TYPE content only\n",
       "    if ((output.output_type != \"display_data\") || (!Object.prototype.hasOwnProperty.call(output.data, EXEC_MIME_TYPE))) {\n",
       "      return\n",
       "    }\n",
       "\n",
       "    const toinsert = output_area.element.find(\".\" + CLASS_NAME.split(' ')[0]);\n",
       "\n",
       "    if (output.metadata[EXEC_MIME_TYPE][\"id\"] !== undefined) {\n",
       "      toinsert[toinsert.length - 1].firstChild.textContent = output.data[JS_MIME_TYPE];\n",
       "      // store reference to embed id on output_area\n",
       "      output_area._bokeh_element_id = output.metadata[EXEC_MIME_TYPE][\"id\"];\n",
       "    }\n",
       "    if (output.metadata[EXEC_MIME_TYPE][\"server_id\"] !== undefined) {\n",
       "      const bk_div = document.createElement(\"div\");\n",
       "      bk_div.innerHTML = output.data[HTML_MIME_TYPE];\n",
       "      const script_attrs = bk_div.children[0].attributes;\n",
       "      for (let i = 0; i < script_attrs.length; i++) {\n",
       "        toinsert[toinsert.length - 1].firstChild.setAttribute(script_attrs[i].name, script_attrs[i].value);\n",
       "        toinsert[toinsert.length - 1].firstChild.textContent = bk_div.children[0].textContent\n",
       "      }\n",
       "      // store reference to server id on output_area\n",
       "      output_area._bokeh_server_id = output.metadata[EXEC_MIME_TYPE][\"server_id\"];\n",
       "    }\n",
       "  }\n",
       "\n",
       "  function register_renderer(events, OutputArea) {\n",
       "\n",
       "    function append_mime(data, metadata, element) {\n",
       "      // create a DOM node to render to\n",
       "      const toinsert = this.create_output_subarea(\n",
       "        metadata,\n",
       "        CLASS_NAME,\n",
       "        EXEC_MIME_TYPE\n",
       "      );\n",
       "      this.keyboard_manager.register_events(toinsert);\n",
       "      // Render to node\n",
       "      const props = {data: data, metadata: metadata[EXEC_MIME_TYPE]};\n",
       "      render(props, toinsert[toinsert.length - 1]);\n",
       "      element.append(toinsert);\n",
       "      return toinsert\n",
       "    }\n",
       "\n",
       "    /* Handle when an output is cleared or removed */\n",
       "    events.on('clear_output.CodeCell', handleClearOutput);\n",
       "    events.on('delete.Cell', handleClearOutput);\n",
       "\n",
       "    /* Handle when a new output is added */\n",
       "    events.on('output_added.OutputArea', handleAddOutput);\n",
       "\n",
       "    /**\n",
       "     * Register the mime type and append_mime function with output_area\n",
       "     */\n",
       "    OutputArea.prototype.register_mime_type(EXEC_MIME_TYPE, append_mime, {\n",
       "      /* Is output safe? */\n",
       "      safe: true,\n",
       "      /* Index of renderer in `output_area.display_order` */\n",
       "      index: 0\n",
       "    });\n",
       "  }\n",
       "\n",
       "  // register the mime type if in Jupyter Notebook environment and previously unregistered\n",
       "  if (root.Jupyter !== undefined) {\n",
       "    const events = require('base/js/events');\n",
       "    const OutputArea = require('notebook/js/outputarea').OutputArea;\n",
       "\n",
       "    if (OutputArea.prototype.mime_types().indexOf(EXEC_MIME_TYPE) == -1) {\n",
       "      register_renderer(events, OutputArea);\n",
       "    }\n",
       "  }\n",
       "  if (typeof (root._bokeh_timeout) === \"undefined\" || force === true) {\n",
       "    root._bokeh_timeout = Date.now() + 5000;\n",
       "    root._bokeh_failed_load = false;\n",
       "  }\n",
       "\n",
       "  const NB_LOAD_WARNING = {'data': {'text/html':\n",
       "     \"<div style='background-color: #fdd'>\\n\"+\n",
       "     \"<p>\\n\"+\n",
       "     \"BokehJS does not appear to have successfully loaded. If loading BokehJS from CDN, this \\n\"+\n",
       "     \"may be due to a slow or bad network connection. Possible fixes:\\n\"+\n",
       "     \"</p>\\n\"+\n",
       "     \"<ul>\\n\"+\n",
       "     \"<li>re-rerun `output_notebook()` to attempt to load from CDN again, or</li>\\n\"+\n",
       "     \"<li>use INLINE resources instead, as so:</li>\\n\"+\n",
       "     \"</ul>\\n\"+\n",
       "     \"<code>\\n\"+\n",
       "     \"from bokeh.resources import INLINE\\n\"+\n",
       "     \"output_notebook(resources=INLINE)\\n\"+\n",
       "     \"</code>\\n\"+\n",
       "     \"</div>\"}};\n",
       "\n",
       "  function display_loaded() {\n",
       "    const el = document.getElementById(\"c708c2d7-249d-4b29-b350-8c6fa7fd21ef\");\n",
       "    if (el != null) {\n",
       "      el.textContent = \"BokehJS is loading...\";\n",
       "    }\n",
       "    if (root.Bokeh !== undefined) {\n",
       "      if (el != null) {\n",
       "        el.textContent = \"BokehJS \" + root.Bokeh.version + \" successfully loaded.\";\n",
       "      }\n",
       "    } else if (Date.now() < root._bokeh_timeout) {\n",
       "      setTimeout(display_loaded, 100)\n",
       "    }\n",
       "  }\n",
       "\n",
       "  function run_callbacks() {\n",
       "    try {\n",
       "      root._bokeh_onload_callbacks.forEach(function(callback) {\n",
       "        if (callback != null)\n",
       "          callback();\n",
       "      });\n",
       "    } finally {\n",
       "      delete root._bokeh_onload_callbacks\n",
       "    }\n",
       "    console.debug(\"Bokeh: all callbacks have finished\");\n",
       "  }\n",
       "\n",
       "  function load_libs(css_urls, js_urls, callback) {\n",
       "    if (css_urls == null) css_urls = [];\n",
       "    if (js_urls == null) js_urls = [];\n",
       "\n",
       "    root._bokeh_onload_callbacks.push(callback);\n",
       "    if (root._bokeh_is_loading > 0) {\n",
       "      console.debug(\"Bokeh: BokehJS is being loaded, scheduling callback at\", now());\n",
       "      return null;\n",
       "    }\n",
       "    if (js_urls == null || js_urls.length === 0) {\n",
       "      run_callbacks();\n",
       "      return null;\n",
       "    }\n",
       "    console.debug(\"Bokeh: BokehJS not loaded, scheduling load and callback at\", now());\n",
       "    root._bokeh_is_loading = css_urls.length + js_urls.length;\n",
       "\n",
       "    function on_load() {\n",
       "      root._bokeh_is_loading--;\n",
       "      if (root._bokeh_is_loading === 0) {\n",
       "        console.debug(\"Bokeh: all BokehJS libraries/stylesheets loaded\");\n",
       "        run_callbacks()\n",
       "      }\n",
       "    }\n",
       "\n",
       "    function on_error(url) {\n",
       "      console.error(\"failed to load \" + url);\n",
       "    }\n",
       "\n",
       "    for (let i = 0; i < css_urls.length; i++) {\n",
       "      const url = css_urls[i];\n",
       "      const element = document.createElement(\"link\");\n",
       "      element.onload = on_load;\n",
       "      element.onerror = on_error.bind(null, url);\n",
       "      element.rel = \"stylesheet\";\n",
       "      element.type = \"text/css\";\n",
       "      element.href = url;\n",
       "      console.debug(\"Bokeh: injecting link tag for BokehJS stylesheet: \", url);\n",
       "      document.body.appendChild(element);\n",
       "    }\n",
       "\n",
       "    for (let i = 0; i < js_urls.length; i++) {\n",
       "      const url = js_urls[i];\n",
       "      const element = document.createElement('script');\n",
       "      element.onload = on_load;\n",
       "      element.onerror = on_error.bind(null, url);\n",
       "      element.async = false;\n",
       "      element.src = url;\n",
       "      console.debug(\"Bokeh: injecting script tag for BokehJS library: \", url);\n",
       "      document.head.appendChild(element);\n",
       "    }\n",
       "  };\n",
       "\n",
       "  function inject_raw_css(css) {\n",
       "    const element = document.createElement(\"style\");\n",
       "    element.appendChild(document.createTextNode(css));\n",
       "    document.body.appendChild(element);\n",
       "  }\n",
       "\n",
       "  const js_urls = [\"https://cdn.bokeh.org/bokeh/release/bokeh-3.1.1.min.js\", \"https://cdn.bokeh.org/bokeh/release/bokeh-gl-3.1.1.min.js\", \"https://cdn.bokeh.org/bokeh/release/bokeh-widgets-3.1.1.min.js\", \"https://cdn.bokeh.org/bokeh/release/bokeh-tables-3.1.1.min.js\", \"https://cdn.bokeh.org/bokeh/release/bokeh-mathjax-3.1.1.min.js\"];\n",
       "  const css_urls = [];\n",
       "\n",
       "  const inline_js = [    function(Bokeh) {\n",
       "      Bokeh.set_log_level(\"info\");\n",
       "    },\n",
       "function(Bokeh) {\n",
       "    }\n",
       "  ];\n",
       "\n",
       "  function run_inline_js() {\n",
       "    if (root.Bokeh !== undefined || force === true) {\n",
       "          for (let i = 0; i < inline_js.length; i++) {\n",
       "      inline_js[i].call(root, root.Bokeh);\n",
       "    }\n",
       "if (force === true) {\n",
       "        display_loaded();\n",
       "      }} else if (Date.now() < root._bokeh_timeout) {\n",
       "      setTimeout(run_inline_js, 100);\n",
       "    } else if (!root._bokeh_failed_load) {\n",
       "      console.log(\"Bokeh: BokehJS failed to load within specified timeout.\");\n",
       "      root._bokeh_failed_load = true;\n",
       "    } else if (force !== true) {\n",
       "      const cell = $(document.getElementById(\"c708c2d7-249d-4b29-b350-8c6fa7fd21ef\")).parents('.cell').data().cell;\n",
       "      cell.output_area.append_execute_result(NB_LOAD_WARNING)\n",
       "    }\n",
       "  }\n",
       "\n",
       "  if (root._bokeh_is_loading === 0) {\n",
       "    console.debug(\"Bokeh: BokehJS loaded, going straight to plotting\");\n",
       "    run_inline_js();\n",
       "  } else {\n",
       "    load_libs(css_urls, js_urls, function() {\n",
       "      console.debug(\"Bokeh: BokehJS plotting callback run at\", now());\n",
       "      run_inline_js();\n",
       "    });\n",
       "  }\n",
       "}(window));"
      ],
      "application/vnd.bokehjs_load.v0+json": "(function(root) {\n  function now() {\n    return new Date();\n  }\n\n  const force = true;\n\n  if (typeof root._bokeh_onload_callbacks === \"undefined\" || force === true) {\n    root._bokeh_onload_callbacks = [];\n    root._bokeh_is_loading = undefined;\n  }\n\n\n  if (typeof (root._bokeh_timeout) === \"undefined\" || force === true) {\n    root._bokeh_timeout = Date.now() + 5000;\n    root._bokeh_failed_load = false;\n  }\n\n  const NB_LOAD_WARNING = {'data': {'text/html':\n     \"<div style='background-color: #fdd'>\\n\"+\n     \"<p>\\n\"+\n     \"BokehJS does not appear to have successfully loaded. If loading BokehJS from CDN, this \\n\"+\n     \"may be due to a slow or bad network connection. Possible fixes:\\n\"+\n     \"</p>\\n\"+\n     \"<ul>\\n\"+\n     \"<li>re-rerun `output_notebook()` to attempt to load from CDN again, or</li>\\n\"+\n     \"<li>use INLINE resources instead, as so:</li>\\n\"+\n     \"</ul>\\n\"+\n     \"<code>\\n\"+\n     \"from bokeh.resources import INLINE\\n\"+\n     \"output_notebook(resources=INLINE)\\n\"+\n     \"</code>\\n\"+\n     \"</div>\"}};\n\n  function display_loaded() {\n    const el = document.getElementById(\"c708c2d7-249d-4b29-b350-8c6fa7fd21ef\");\n    if (el != null) {\n      el.textContent = \"BokehJS is loading...\";\n    }\n    if (root.Bokeh !== undefined) {\n      if (el != null) {\n        el.textContent = \"BokehJS \" + root.Bokeh.version + \" successfully loaded.\";\n      }\n    } else if (Date.now() < root._bokeh_timeout) {\n      setTimeout(display_loaded, 100)\n    }\n  }\n\n  function run_callbacks() {\n    try {\n      root._bokeh_onload_callbacks.forEach(function(callback) {\n        if (callback != null)\n          callback();\n      });\n    } finally {\n      delete root._bokeh_onload_callbacks\n    }\n    console.debug(\"Bokeh: all callbacks have finished\");\n  }\n\n  function load_libs(css_urls, js_urls, callback) {\n    if (css_urls == null) css_urls = [];\n    if (js_urls == null) js_urls = [];\n\n    root._bokeh_onload_callbacks.push(callback);\n    if (root._bokeh_is_loading > 0) {\n      console.debug(\"Bokeh: BokehJS is being loaded, scheduling callback at\", now());\n      return null;\n    }\n    if (js_urls == null || js_urls.length === 0) {\n      run_callbacks();\n      return null;\n    }\n    console.debug(\"Bokeh: BokehJS not loaded, scheduling load and callback at\", now());\n    root._bokeh_is_loading = css_urls.length + js_urls.length;\n\n    function on_load() {\n      root._bokeh_is_loading--;\n      if (root._bokeh_is_loading === 0) {\n        console.debug(\"Bokeh: all BokehJS libraries/stylesheets loaded\");\n        run_callbacks()\n      }\n    }\n\n    function on_error(url) {\n      console.error(\"failed to load \" + url);\n    }\n\n    for (let i = 0; i < css_urls.length; i++) {\n      const url = css_urls[i];\n      const element = document.createElement(\"link\");\n      element.onload = on_load;\n      element.onerror = on_error.bind(null, url);\n      element.rel = \"stylesheet\";\n      element.type = \"text/css\";\n      element.href = url;\n      console.debug(\"Bokeh: injecting link tag for BokehJS stylesheet: \", url);\n      document.body.appendChild(element);\n    }\n\n    for (let i = 0; i < js_urls.length; i++) {\n      const url = js_urls[i];\n      const element = document.createElement('script');\n      element.onload = on_load;\n      element.onerror = on_error.bind(null, url);\n      element.async = false;\n      element.src = url;\n      console.debug(\"Bokeh: injecting script tag for BokehJS library: \", url);\n      document.head.appendChild(element);\n    }\n  };\n\n  function inject_raw_css(css) {\n    const element = document.createElement(\"style\");\n    element.appendChild(document.createTextNode(css));\n    document.body.appendChild(element);\n  }\n\n  const js_urls = [\"https://cdn.bokeh.org/bokeh/release/bokeh-3.1.1.min.js\", \"https://cdn.bokeh.org/bokeh/release/bokeh-gl-3.1.1.min.js\", \"https://cdn.bokeh.org/bokeh/release/bokeh-widgets-3.1.1.min.js\", \"https://cdn.bokeh.org/bokeh/release/bokeh-tables-3.1.1.min.js\", \"https://cdn.bokeh.org/bokeh/release/bokeh-mathjax-3.1.1.min.js\"];\n  const css_urls = [];\n\n  const inline_js = [    function(Bokeh) {\n      Bokeh.set_log_level(\"info\");\n    },\nfunction(Bokeh) {\n    }\n  ];\n\n  function run_inline_js() {\n    if (root.Bokeh !== undefined || force === true) {\n          for (let i = 0; i < inline_js.length; i++) {\n      inline_js[i].call(root, root.Bokeh);\n    }\nif (force === true) {\n        display_loaded();\n      }} else if (Date.now() < root._bokeh_timeout) {\n      setTimeout(run_inline_js, 100);\n    } else if (!root._bokeh_failed_load) {\n      console.log(\"Bokeh: BokehJS failed to load within specified timeout.\");\n      root._bokeh_failed_load = true;\n    } else if (force !== true) {\n      const cell = $(document.getElementById(\"c708c2d7-249d-4b29-b350-8c6fa7fd21ef\")).parents('.cell').data().cell;\n      cell.output_area.append_execute_result(NB_LOAD_WARNING)\n    }\n  }\n\n  if (root._bokeh_is_loading === 0) {\n    console.debug(\"Bokeh: BokehJS loaded, going straight to plotting\");\n    run_inline_js();\n  } else {\n    load_libs(css_urls, js_urls, function() {\n      console.debug(\"Bokeh: BokehJS plotting callback run at\", now());\n      run_inline_js();\n    });\n  }\n}(window));"
     },
     "metadata": {},
     "output_type": "display_data"
    },
    {
     "data": {
      "text/html": [
       "\n",
       "  <div id=\"f2fa72e7-be41-41da-9736-296738230526\" data-root-id=\"p1286\" style=\"display: contents;\"></div>\n"
      ]
     },
     "metadata": {},
     "output_type": "display_data"
    },
    {
     "data": {
      "application/javascript": [
       "(function(root) {\n",
       "  function embed_document(root) {\n",
       "  const docs_json = {\"a883aaac-d038-49f0-b64f-30101ed63bb1\":{\"version\":\"3.1.1\",\"title\":\"Bokeh Application\",\"defs\":[],\"roots\":[{\"type\":\"object\",\"name\":\"Figure\",\"id\":\"p1286\",\"attributes\":{\"width\":900,\"height\":700,\"x_range\":{\"type\":\"object\",\"name\":\"DataRange1d\",\"id\":\"p1288\"},\"y_range\":{\"type\":\"object\",\"name\":\"DataRange1d\",\"id\":\"p1287\"},\"x_scale\":{\"type\":\"object\",\"name\":\"LinearScale\",\"id\":\"p1300\"},\"y_scale\":{\"type\":\"object\",\"name\":\"LinearScale\",\"id\":\"p1302\"},\"title\":{\"type\":\"object\",\"name\":\"Title\",\"id\":\"p1289\",\"attributes\":{\"text\":\"t-SNE Clustering of 6 LDA Topics\"}},\"renderers\":[{\"type\":\"object\",\"name\":\"GlyphRenderer\",\"id\":\"p1339\",\"attributes\":{\"data_source\":{\"type\":\"object\",\"name\":\"ColumnDataSource\",\"id\":\"p1333\",\"attributes\":{\"selected\":{\"type\":\"object\",\"name\":\"Selection\",\"id\":\"p1335\",\"attributes\":{\"indices\":[],\"line_indices\":[]}},\"selection_policy\":{\"type\":\"object\",\"name\":\"UnionRenderers\",\"id\":\"p1334\"},\"data\":{\"type\":\"map\",\"entries\":[[\"x\",{\"type\":\"ndarray\",\"array\":{\"type\":\"bytes\",\"data\":\"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\"},\"shape\":[1448],\"dtype\":\"float32\",\"order\":\"little\"}],[\"y\",{\"type\":\"ndarray\",\"array\":{\"type\":\"bytes\",\"data\":\"RcPsQFvOQEGx/W5AN5gKQLklkEF+7CvBC8rMwS9HWUBNoYfBW85AQZ0Jk0BIbAdAuudzwS7LP0A76rbAJjD1QFM/zsFbzkBBWiKAQKoVkMHQ3D7A6YFvweEqA8K9dXO/zN74wcH/qsECQQHChi4mQG7bBcCInfJAdfhgQemSd0EGAFHAJKcFwCI0w0B+7CvBM7VLwZJFQEA3HPzBzT4IQfPfjkH4FuzBKqXtQGkFgsEWWwu/6sUswD5ddcG553PB1zLCwVunMMFzjYrBNqcwwWtwHUFT5vzBtUdev39SWMFXxYfBAkEBwh9OScBHea2/SUr/P11v/cHJvVxBpmkqwPFW6cGb53PBSc9AQabF38FWRddA7H+IQAjdOsDxVunBe1zRQCnDkEFhMW1BhpvtQAWH7cGLjepAlQa2vkXD7ECU5G2/QK7jwU9aUcBkqq5ANxz8wcze+MG/4//BBGu8QPLf7UAWl0DBAkEBwtbDB0AyG9BA+UDiwQXFvMDcRbFAcRc0wOTfvUC42iDA+KvMwQjPGL9AOALCUz/OwXZ7zkDWYtw9zyvuQBBEkECWd+HBjOwrwUvWAsKInfJAW+0AwinDkEGqKE7BL+cbQep4YcHJvVxBrNdpQVNtL8BbQCNB18sGQDGo+cHxVunBSniRwW1MsMEP0pLBKCLLwddw+z/M3vjB1mLcPRf9i8FCtaTBiKm3QJhJAcKnqcNAOdTNwa20wMGInfJAvoVmQHONisFKcQLCjbSHwZxr/sFvttVAnMSsv/lfZUF/Sq/BTiS4wJ/YAMIGAFHA4SoDwi9HWUBYYFbB/yOwQFNtL8CbRvrBbOrKweKtjED/U2fBKKOPQZvD0kCecsZAvxckQfv1gEB2e85AmMDPwdRd/ME44F/BEVhTwcze+MEln+1AB5c3Qa1aGUAUP33Bh1vVvr6FZkCCldO+LNYAwi8YiUAsVQTAiOlTvzO1S8FJG4NBWvC+ulixS8HWYtw9Fiu/wX9Kr8FT5vzBNw/nQNn9+MHBPkdAhi0gwIXH379L4NS+Uz/OwY3Ngj6l/yVBehyGQCWR4kAlZWbBimedQWb5usEeklZB7gzIweMKlkFqVcxADzubwWzx18FA5eHBdfhgQSiKfEHYgd+8GyNhwYl62MEy48BAqyCEQBuViEE1StlAm36XwWID+T72jI1BDVoCwsa7jsGU8F/BwI0EwVNHBsHj5J/A3JduwX0dqcE22trBG/1hQIXH378HhAvAOk2twUODfUESaABAIyzSwSWf7UAoo49Bv2Sdvuelz0Gt9sbBT1pRwKepw0DbairAdbEMwFzIAML+VMDBW6LIwbh6pED8JlW/e1jvQJZ34cE0uIzBB5c3QdNZCUDhZSVAtPiqwWSqrkCNzYI+iDd8wXS06MHM3vjBsw/PQLZHRsEdVJPBZzLJwU+BAMKE0HHBmtogwJPSikAddIxA9eL+wZ2w/8GiV8BA0DzOwRP2rsF7htfBas/3QGYVaEGDSAHCyMMFwb0vw0DHawDCkjdrPcy84sF9G4NBtQnHwScbg0COrJXBJui8QNfnhEB0tgDC0KXPQQhmAsIcAho+rhOfQAqRkkEm/6rBoalzQJnbC8HN9ADBZ4ZkwcGWJUEzNpLBB78/QNA8zsFZ+//AqwlowZ6b077LKCzAFJ+bwUQ3vMColozByG8nwCv2F8G5td7Bl++eQV5tZcHkEvpAiXrYwTZ4+sFshmTBfSIswCPBz0H1w1lAsiPoQEMspcGU3LBALGvewVh1lsF0K5XBPNUBQvy12cGWCuLBlgriwRZ92sH5mtrBuCTbQPF6ssFMJtDBJ8CJwT6x6UA7W2fBZlyIwYf6Y0CNrRu+EQKdP5vMzUA7W2fB1I6yQTzVAUILJgjBUUP5P2X5w8Ht17/BaFDjwLgk20DXT39AoffZweW6dcFoUOPAq1FrwSxr3sENHdlAX1zXwV9c18Gh99nBh/pjQOPkn8BIrd7ByD6AwVvOQEFfL/zAsf1uQKH32cGI+mNA5Jk9v5PAB8GeF8lAWHWWwclVd8H59yHBi68tQTEL4sFl+cPBdCuVwTUfCUC5JZBBixsQwX4qTUATp1lBGFQiQfm530BHT39AEQKdP18v/MB3FqbBBAYuwedOD0FYRcjBlgriwauL8EAqOpNB6k9/QA7Gw8EjUOPAZd4+QbfbjUFMJtDBlyNDwRhUIkG6A9hBC8rMwddPf0B/9eDBdCuVwS9HWUBbzkBBFdFRwf1Wf0BoHuhA3BDhwZ0Jk0AM9yHBj1LOQMeih0CCuUHBgsyAQF8v/MBfL/zA+fchwQdWiMGiNonBaxXxwDzVAUJXJtDBXy/8wF9LCUDC241B2VB/QLlVd8H9q5XBscrEwVcm0MFnewbB13cQv2QzI8GrUWvBg8s/QCpBI8E76rbAJ8CJwZ0rlcFkegBAUyPUwfVPOEHPGdvBpkqWwZ369ECqUWvBaAtVwdDcPsC3DDXBO1tnwVvOQEFLdgDBYC1mQF9c18E1lHXBnFAWQbwmtr84FOLAgn1wvz6x6UDqnubAHlB/QOqe5sDuoO9A5bp1wZUP3EDWmtK+4xXNwWGqAUFfL/zAAx3XwRSntMFLRJbBqqQxwdz/HkFohhrBJ8CJwWd7BsE0bQrBPv6SwWd7BsHcEOHBZSOrwYid8kBu2wXAgP9NvjtKlsG4JNtAWHWWwdwQ4cEku6JAPv6SweQjk8FSLdrBBAYuwcPelMEqQSPB7de/wTO1S8GNLctAillAwZUP3EA5zNbBaAtVwUbKKkFBndfBHVUKwXc9i8FskRtB+nIRwZFEn0E+/pLBfXN7wd39ecEm+IXBFpfCwZvMzUAi47o8rIaKwSp7HUHs2t3BSUeRQSNOi8Hix4rBhlrWwaVV0sF6ot/Aq1KWwYx02z9aMHnB0nvOwDtqhkF44prB3BDhwTgHWkGOns5AIkrYwD0pAcHt17/BReoAwf+PYMBWRddAx1FQQXtc0UCNLctAX1zXwYCfi8FEzxPBYTFtQYab7UCD+iJBoHkqwXcNwMGWXt3BFCSywH53yUA7fgPBw5CIwYKpssG8Jra/wVB/QID+1L9Gh+LBEQKdP1h1lsF0K5XBincaQMjlh0GEzyDB+oWtQZvMzUD6erLBE63SwVJmN0Gy+5vBPrHpQG36xMHcdpDBp65TwXhP70CNrRu+3OR1QdV0L7/P78TAdw3Awe3Xv8GHyL3BBAkgwBFSesG9G8tA466Bwe4b2UCRz+K/Bs0SQShOOUFy+XvBll7dwQ1rPsCTVrZBW85AQbH9bkDj74DB2hy1QIBRXUDzx5NANfEKQJeZgUEMjipBld3xQLklkEHHBt9AfipNQBOnWUHSaYPBltXeQH62XsEHVojBClsAQW4RMEGM7CvBZZc8QbaK8ECfWx7BLmwhwdqWYsE6VB8/nmyNwaRZcsFDLQNADztTQVYxaEFatfxAAkK7wT4m+sG6A9hBC8rMwSpsDEG9mda/uaSlQcdcMcEPKrdBzpbmwLyEMsHeYjtBE5aKQS9HWUDS4+vAbB7YwPiGiMGUEuhAnQmTQCmMDsGRGdpBVBepQX/14MHOPXE/Nb4mQSHDJ8Gh45LBkfyMQUV4Z0GR53PBx8JeQR7MgEBvJr1BOkbkwC7LP0BzIw7BbxmtQTvqtsAypc5ABuPEwefcs0DKaUBBmRF+wdC64EAmMPVA0Nw+wDXvI8E9CnzBwfYaQTWUdcEkL87BexPGwVETR8GBZybAyS9pQPEjIUHZaurAUX6AwVMj1MGqFZDBYW0+wPjPLcEoqa5Br0n6QHbS8cBpXJ7Bc+GUwIKBb8HhKgPCk6wewBSntMHz795A3U1vvwZl0kDWRdbBOdydwWH/qsGr4qDB/rYOQcOWhEGVD9xAq7nawOG0tcCryRpAE+HnQOqe5sBScJdBlwWOQRlwksHyB8xAJLuiQDXWfsGm6z5AwaDwwGWRhMGt92LBQKb5P/xygUFrOo7B7EoGwTw3/L/SCW/Bj+VwwYtlesHMgYlAgZ/fwY+bXEHWt+FA9P3mwIAXcL7fssLAaIYawRKI20GGLiZAahPhQOXQmkGInfJAp3nswOqn7MCWbSpBtydnQWOsi8G50vNB8PgbQRJJHEE0NGhBP4PTQbVhJUF7hgXAsayFwZ34KUHuxLvA8443QJ4SBUGoMI+/p8ANQfbs+sBMmMtArb+3QZJGxUBK2M9ArdevQSYH5MDq7YRAXq6PQXX4YEEfp8JAlzL+wUZeQsGQcBnBPXeUv0t8TEH06utBE39dQPAwp0BPF5hBvX7RwLEjOECGziZBnqC8wTRU4EDpkndB/b0KQY+l2kB9+s/A1diLQQYAUcD2ARXBxxoyQQdBPEE9W3zBEq/WwB7k90A0/mJBvhLJQIrLxMAkpwXAYyinwfHA28AiNMNAh9aWwT/3z8BYsUvBSy0xQNDN2cCONdxAnQr3P92Fb0DlvyhBUHPNQKM27T/yn+TAtE+aQFY65cDNPghBIuCOQaFWikGFlOE/kPPMQAiIhkHqxSzAuwAnQTSwxsFT04rBWDfKQQ8lksHiM8BAbfC3QA7Bl8GMud9Ae1WKwW8tUEFpBYLB0lgJQUDca0FLJwbBjKmjQWa5g8HnyNy+AKdMwNRfwUC3E59BBhnhwTEAlcE+XXXB2t8BQSK+gMHdzgZANqcwwXFu3D88iQlBrIaKwU0zr0EGzAXAceTSwcAQ/8BejgjBJWmJwYxwO0Gn2TbBOmOKQSp7HUEaUcHBmB1+Qc57zsB3DijBUXObQQoLNkHILck/kaWcwUIYykG1R16/aTNXQSb4hcFgOsvBjdqHwbEvB8GScJVB7MOCwSKLh8EWl8LBo0b8QLDDhsGTjqRBIt5jQAVjL8FiA0/AH05JwA3I7EFby6BBR3mtv3YigUEJruDBMClOQW4cv8GX5T7BbxEVQRkltEFm/srB2t+9QMm9XEEsYHfBaLaaQT3GTkEHVX/BRG0qwNZi3D02hsrB+Tc/wX5opMEOLU1BKQMFQTFt1kFxNBHB8VbpwUly5sBBFaBBylKsQUHrOsCcLcNBjp7OQF8Uf8FDOOC/O2qGQetSiEH/lolBEJwyQK/trUEG661BSc9AQZBykEENDxbBoYvSQGU0okCKUUzAlI7LQBVOo0HG8QnBJvZewXmHSUHsf4hA3Ca9QGV7IcEusGdBm8PSQCnDkEFkz/NAXZ0SQRbTgcGZnXbBYTFtQVXazUCGm+1A75ncQRptX78iQ4xBFNOBwQB5lUE3mmrBjMCSQYuN6kC904pBCtU0wH7YeUHpuozBQMScweqQzcCD+iJBV2PsQVh80kFkqq5AgMuowRgfIMFp3xtBcCl5wX+KicFMW4jBRofiwQRrvEAVl0DBVKVFQXh51cGAlCNBp3UBwZxKK0Etx4PBycQ8QXCKqEHZCslBO9vsvXlDIEEHlMTACyixwMhlW0FZvAfBq/kiwDpLAELwiphBTxzKQDZJG8F/OipBobiVv52yTkHUF75ABoRBQS7Ap0F9qRZBxI8OwRjxB8H4QYjAYT1PQaYsqUFWrwPB9BUMwcVtLMHP9ANCI9FdQWE9NMFQaVFBJcOdwHY3v0Eq5OdAcckDQtCSQEHUmH/BATjQQQa0LEH689BBQnxIQcZxgr+hlUNBkHu1vt1LmEGs5dVAMxfMQW0psEEoTcBBt3lQQddH/EGO70dB8Y78QRSBCUFgF6VBZCYDwWikIcGC0lfAm4+bQZllQUFUleLAtdk3QQGArkAVo9JBlgC7QWTzSkESfdFAPSLSwCAdGkGOFdNBB3eeQRhG8kDy2hXBpQYtQcKYJUD0X+RB/JJlQSAYYUHBnB5BgtHUQQIyhcHA+VtBzNxUQSW310HOOA9Av3tMQVp81cBTRbFBeEUnwY5VbsBCeDPBZV1OQVwel0DhHd7A2T9oQcOTX0FAsPtBapyvQcUyPkGaMgxBKeOfQY0uqUFr6gG//c03QYpiuEC3it9Bvi1qQQ4YtUHprC7BanSwwPQt00GjYwNC+G21QcH6s0F5hxRB69eRQZFyzkGtCJ1BF+xpP+n9c8H+N5lBitkcQRVWbsGaUd9BIZ/pPyT64EAqRhhBDoS0QJq74UF4MgfByiG/Qa3kpEHESzFBGqgVQayhr78u+q3Ab3NSQZpGzkHukqpBNQGsQXxumUAiEbxBqH3gQel2RkGnpvxArV4VwbmufcFnXdZBHuNmQTzhlUF9y5/Abh/TQVyTwUBwjFhB0za0QUNq6MAmc+hAMoEgQVfNbsFzFERBQl4pQZkMBsHxigJCEZfhQVwLqkGGjuRBoLwYQXZXaUEHsPbAUjPeQQyI2EEUF/tAUFWxQaBkJsFISSNBMCZeQUn6sEFB85JBDpMzwWsjisGqu99Bee0AQjspy8DwR3nBfaQlwC2irsAkrstBWbRhQd8zlEGoa6ZBH6bIQUlT9cAxkbFBSOStQb7SAUIh6NBBwcImQQ5Qn8CHo/Q/Iw8wPlZGT0F7ubXAGP9fQWlltUHfkYLBXBF9wSl3BEGgVgNCv4afQftIwUFy451BDnPEQYKsk0H8ob1BUfDSwV27r8DC2fJB7nlVQYG89kG1d7lB5uzpQaxBWEH5jq9BRPSUQcusskHF9K5Af7T2QbApHUFIFF9BkKsCQqpjJcEr3ERBC1jcQNor1UEGME9BlaorQY6go0HLT6hBvdBLQV/CsUFireRBwIcSPcScIcFCAdhBUogwQbFPo0GBrxjBw6oKwK+/30FToP1BvRIjQXPsoMAPClNB2zisQQ71vkHCt9hBCNMOQQc52EE6yje+KwOyQcgPF0GO/atA8Fs4QbQopsCOgkZBbgSzQXZO/UEnJeTAx94PwYv9zD/M5FXAmVdkQRgafcD5VIvAp2+tQQ8mA0K4eUBBA0StQUZcDEGlvqZBsjsYQTtnk0A1t9VBZAudQeCFrEGQaE5BG6eGPutT/0HvHSNBywf1QPgIaMD0D+lARc0AQuKU9sDNqJFAJphdQS8Hw0ELCuRBjbe2QUXG1EHqzTPBtHiuQaXH5UHUHLFBeVGXQVyorEGQ4g9BhrX5QcrgA0FCdJ5BRPXOQG+xAEK2WJjAZ22bQFf9N8FodcVBfYOPQAUMzUGEt9NBsfheQd2rlEGkf/tARWWtQMVCb8FxYJ5ABTOsQb8CU0ECpddBYx2kQYouWkFbBGBBWc3MQX1/xMAukjFBNUoAwb0hW0G0mxtBTnjGQQZMT0EB7M5BNUCFQK5vNEEemLFBbwAtQUUikkGJtlBBrXzKQOHxnEGNUhPBPw2uQUdv2sBFb0NBkLdywIz3qUFZLtRB4QQeQXqwkUEp++NBUKuWwAt3oUGW8NPA6dccP75/RUFDp/JBND4AQp2qyEF8xvtBhcnOQYFgNEF0v1VBbKzMwPsXeMEu4H5Bko2fQTQamEEF/h/B/0FfQfGHtEEa+xNBmhgAwRKJpkF2kAtAMKUiQcFEgUCZD7lBdP6DwcR1m0E3GH3BicGtQU4ZGUHQLz9BXbrwwB0ZqMBz96VBhsU6QbwZAUITUt1BnbXUQYY/jsCERRHBK6IVQXsAyEHkNtrAncRLQayY6UEZDhDBS6y1wIPsqEFPdl9BT5PGwNhb7kHBaZ5BUxZPQV8PGEEOQSZBVEbeQapDnUE7TCzBBq29QR2T0kE8JbvAstRvQZs2pUHouZ9Ba7w0P6rCVUFAXPlBlRwswRKiT0F/fLPA8e2DQdp7hsE=\"},\"shape\":[1448],\"dtype\":\"float32\",\"order\":\"little\"}],[\"hatch_color\",{\"type\":\"ndarray\",\"array\":[\"#9467bd\",\"#9467bd\",\"#9467bd\",\"#9467bd\",\"#9467bd\",\"#ff7f0e\",\"#d62728\",\"#9467bd\",\"#ff7f0e\",\"#9467bd\",\"#9467bd\",\"#9467bd\",\"#9467bd\",\"#9467bd\",\"#9467bd\",\"#9467bd\",\"#1f77b4\",\"#9467bd\",\"#9467bd\",\"#1f77b4\",\"#9467bd\",\"#ff7f0e\",\"#1f77b4\",\"#9467bd\",\"#1f77b4\",\"#9467bd\",\"#1f77b4\",\"#9467bd\",\"#9467bd\",\"#9467bd\",\"#9467bd\",\"#9467bd\",\"#9467bd\",\"#9467bd\",\"#9467bd\",\"#ff7f0e\",\"#9467bd\",\"#9467bd\",\"#1f77b4\",\"#9467bd\",\"#9467bd\",\"#1f77b4\",\"#9467bd\",\"#ff7f0e\",\"#9467bd\",\"#9467bd\",\"#ff7f0e\",\"#9467bd\",\"#1f77b4\",\"#ff7f0e\",\"#ff7f0e\",\"#ff7f0e\",\"#9467bd\",\"#1f77b4\",\"#9467bd\",\"#9467bd\",\"#ff7f0e\",\"#1f77b4\",\"#9467bd\",\"#9467bd\",\"#1f77b4\",\"#1f77b4\",\"#9467bd\",\"#9467bd\",\"#1f77b4\",\"#9467bd\",\"#9467bd\",\"#1f77b4\",\"#9467bd\",\"#9467bd\",\"#9467bd\",\"#1f77b4\",\"#9467bd\",\"#9467bd\",\"#9467bd\",\"#9467bd\",\"#1f77b4\",\"#9467bd\",\"#8c564b\",\"#9467bd\",\"#9467bd\",\"#1f77b4\",\"#9467bd\",\"#9467bd\",\"#1f77b4\",\"#1f77b4\",\"#1f77b4\",\"#9467bd\",\"#9467bd\",\"#ff7f0e\",\"#1f77b4\",\"#9467bd\",\"#9467bd\",\"#1f77b4\",\"#9467bd\",\"#8c564b\",\"#9467bd\",\"#9467bd\",\"#9467bd\",\"#1f77b4\",\"#9467bd\",\"#1f77b4\",\"#1f77b4\",\"#9467bd\",\"#9467bd\",\"#9467bd\",\"#9467bd\",\"#1f77b4\",\"#ff7f0e\",\"#1f77b4\",\"#9467bd\",\"#1f77b4\",\"#9467bd\",\"#ff7f0e\",\"#9467bd\",\"#9467bd\",\"#9467bd\",\"#9467bd\",\"#9467bd\",\"#8c564b\",\"#1f77b4\",\"#1f77b4\",\"#1f77b4\",\"#9467bd\",\"#9467bd\",\"#1f77b4\",\"#1f77b4\",\"#9467bd\",\"#1f77b4\",\"#9467bd\",\"#9467bd\",\"#9467bd\",\"#9467bd\",\"#1f77b4\",\"#9467bd\",\"#1f77b4\",\"#1f77b4\",\"#9467bd\",\"#9467bd\",\"#ff7f0e\",\"#1f77b4\",\"#ff7f0e\",\"#1f77b4\",\"#8c564b\",\"#9467bd\",\"#9467bd\",\"#9467bd\",\"#9467bd\",\"#1f77b4\",\"#9467bd\",\"#1f77b4\",\"#9467bd\",\"#9467bd\",\"#8c564b\",\"#9467bd\",\"#1f77b4\",\"#1f77b4\",\"#8c564b\",\"#ff7f0e\",\"#9467bd\",\"#9467bd\",\"#9467bd\",\"#9467bd\",\"#9467bd\",\"#9467bd\",\"#1f77b4\",\"#1f77b4\",\"#9467bd\",\"#ff7f0e\",\"#1f77b4\",\"#9467bd\",\"#9467bd\",\"#9467bd\",\"#ff7f0e\",\"#9467bd\",\"#9467bd\",\"#9467bd\",\"#1f77b4\",\"#8c564b\",\"#9467bd\",\"#9467bd\",\"#9467bd\",\"#9467bd\",\"#9467bd\",\"#9467bd\",\"#9467bd\",\"#1f77b4\",\"#9467bd\",\"#1f77b4\",\"#9467bd\",\"#1f77b4\",\"#1f77b4\",\"#9467bd\",\"#9467bd\",\"#9467bd\",\"#1f77b4\",\"#9467bd\",\"#8c564b\",\"#8c564b\",\"#9467bd\",\"#ff7f0e\",\"#8c564b\",\"#1f77b4\",\"#9467bd\",\"#1f77b4\",\"#9467bd\",\"#9467bd\",\"#9467bd\",\"#1f77b4\",\"#1f77b4\",\"#9467bd\",\"#9467bd\",\"#1f77b4\",\"#ff7f0e\",\"#1f77b4\",\"#9467bd\",\"#9467bd\",\"#9467bd\",\"#9467bd\",\"#9467bd\",\"#1f77b4\",\"#9467bd\",\"#1f77b4\",\"#9467bd\",\"#9467bd\",\"#ff7f0e\",\"#ff7f0e\",\"#9467bd\",\"#9467bd\",\"#9467bd\",\"#1f77b4\",\"#1f77b4\",\"#9467bd\",\"#9467bd\",\"#9467bd\",\"#9467bd\",\"#9467bd\",\"#1f77b4\",\"#9467bd\",\"#9467bd\",\"#1f77b4\",\"#2ca02c\",\"#1f77b4\",\"#9467bd\",\"#9467bd\",\"#9467bd\",\"#9467bd\",\"#1f77b4\",\"#1f77b4\",\"#1f77b4\",\"#9467bd\",\"#9467bd\",\"#8c564b\",\"#1f77b4\",\"#9467bd\",\"#9467bd\",\"#9467bd\",\"#9467bd\",\"#9467bd\",\"#9467bd\",\"#9467bd\",\"#1f77b4\",\"#1f77b4\",\"#1f77b4\",\"#9467bd\",\"#9467bd\",\"#9467bd\",\"#1f77b4\",\"#1f77b4\",\"#ff7f0e\",\"#9467bd\",\"#8c564b\",\"#9467bd\",\"#1f77b4\",\"#1f77b4\",\"#9467bd\",\"#1f77b4\",\"#9467bd\",\"#1f77b4\",\"#9467bd\",\"#9467bd\",\"#1f77b4\",\"#ff7f0e\",\"#9467bd\",\"#1f77b4\",\"#9467bd\",\"#1f77b4\",\"#9467bd\",\"#1f77b4\",\"#9467bd\",\"#1f77b4\",\"#9467bd\",\"#9467bd\",\"#1f77b4\",\"#2ca02c\",\"#1f77b4\",\"#1f77b4\",\"#9467bd\",\"#9467bd\",\"#9467bd\",\"#9467bd\",\"#ff7f0e\",\"#ff7f0e\",\"#ff7f0e\",\"#8c564b\",\"#1f77b4\",\"#9467bd\",\"#1f77b4\",\"#9467bd\",\"#ff7f0e\",\"#9467bd\",\"#9467bd\",\"#9467bd\",\"#9467bd\",\"#1f77b4\",\"#8c564b\",\"#ff7f0e\",\"#1f77b4\",\"#9467bd\",\"#ff7f0e\",\"#8c564b\",\"#1f77b4\",\"#1f77b4\",\"#ff7f0e\",\"#9467bd\",\"#2ca02c\",\"#1f77b4\",\"#9467bd\",\"#9467bd\",\"#9467bd\",\"#d62728\",\"#d62728\",\"#d62728\",\"#2ca02c\",\"#d62728\",\"#d62728\",\"#d62728\",\"#d62728\",\"#d62728\",\"#9467bd\",\"#d62728\",\"#1f77b4\",\"#d62728\",\"#9467bd\",\"#8c564b\",\"#1f77b4\",\"#8c564b\",\"#9467bd\",\"#9467bd\",\"#9467bd\",\"#8c564b\",\"#2ca02c\",\"#2ca02c\",\"#ff7f0e\",\"#9467bd\",\"#d62728\",\"#d62728\",\"#9467bd\",\"#9467bd\",\"#8c564b\",\"#d62728\",\"#8c564b\",\"#9467bd\",\"#8c564b\",\"#d62728\",\"#9467bd\",\"#d62728\",\"#d62728\",\"#d62728\",\"#8c564b\",\"#9467bd\",\"#d62728\",\"#d62728\",\"#9467bd\",\"#9467bd\",\"#9467bd\",\"#d62728\",\"#8c564b\",\"#9467bd\",\"#9467bd\",\"#9467bd\",\"#d62728\",\"#8c564b\",\"#d62728\",\"#9467bd\",\"#1f77b4\",\"#d62728\",\"#d62728\",\"#9467bd\",\"#9467bd\",\"#9467bd\",\"#8c564b\",\"#8c564b\",\"#9467bd\",\"#9467bd\",\"#8c564b\",\"#9467bd\",\"#9467bd\",\"#d62728\",\"#ff7f0e\",\"#8c564b\",\"#1f77b4\",\"#d62728\",\"#9467bd\",\"#9467bd\",\"#8c564b\",\"#d62728\",\"#9467bd\",\"#8c564b\",\"#9467bd\",\"#1f77b4\",\"#9467bd\",\"#9467bd\",\"#2ca02c\",\"#d62728\",\"#8c564b\",\"#d62728\",\"#d62728\",\"#9467bd\",\"#9467bd\",\"#9467bd\",\"#8c564b\",\"#9467bd\",\"#d62728\",\"#9467bd\",\"#d62728\",\"#9467bd\",\"#9467bd\",\"#ff7f0e\",\"#8c564b\",\"#9467bd\",\"#9467bd\",\"#d62728\",\"#9467bd\",\"#ff7f0e\",\"#9467bd\",\"#2ca02c\",\"#1f77b4\",\"#9467bd\",\"#9467bd\",\"#9467bd\",\"#8c564b\",\"#8c564b\",\"#d62728\",\"#d62728\",\"#1f77b4\",\"#9467bd\",\"#9467bd\",\"#d62728\",\"#8c564b\",\"#9467bd\",\"#d62728\",\"#9467bd\",\"#d62728\",\"#d62728\",\"#8c564b\",\"#1f77b4\",\"#9467bd\",\"#d62728\",\"#d62728\",\"#9467bd\",\"#8c564b\",\"#9467bd\",\"#9467bd\",\"#ff7f0e\",\"#8c564b\",\"#9467bd\",\"#ff7f0e\",\"#9467bd\",\"#d62728\",\"#8c564b\",\"#8c564b\",\"#9467bd\",\"#9467bd\",\"#9467bd\",\"#9467bd\",\"#9467bd\",\"#8c564b\",\"#9467bd\",\"#9467bd\",\"#8c564b\",\"#9467bd\",\"#9467bd\",\"#d62728\",\"#8c564b\",\"#9467bd\",\"#d62728\",\"#d62728\",\"#d62728\",\"#ff7f0e\",\"#9467bd\",\"#9467bd\",\"#d62728\",\"#9467bd\",\"#9467bd\",\"#d62728\",\"#9467bd\",\"#d62728\",\"#d62728\",\"#9467bd\",\"#9467bd\",\"#9467bd\",\"#d62728\",\"#9467bd\",\"#d62728\",\"#d62728\",\"#8c564b\",\"#d62728\",\"#d62728\",\"#d62728\",\"#ff7f0e\",\"#d62728\",\"#d62728\",\"#d62728\",\"#9467bd\",\"#9467bd\",\"#8c564b\",\"#9467bd\",\"#d62728\",\"#9467bd\",\"#8c564b\",\"#d62728\",\"#ff7f0e\",\"#d62728\",\"#8c564b\",\"#9467bd\",\"#9467bd\",\"#d62728\",\"#d62728\",\"#d62728\",\"#d62728\",\"#d62728\",\"#9467bd\",\"#9467bd\",\"#ff7f0e\",\"#9467bd\",\"#d62728\",\"#8c564b\",\"#ff7f0e\",\"#d62728\",\"#1f77b4\",\"#1f77b4\",\"#9467bd\",\"#d62728\",\"#8c564b\",\"#9467bd\",\"#9467bd\",\"#9467bd\",\"#d62728\",\"#d62728\",\"#8c564b\",\"#9467bd\",\"#9467bd\",\"#9467bd\",\"#d62728\",\"#9467bd\",\"#8c564b\",\"#9467bd\",\"#8c564b\",\"#9467bd\",\"#9467bd\",\"#d62728\",\"#ff7f0e\",\"#9467bd\",\"#9467bd\",\"#9467bd\",\"#9467bd\",\"#d62728\",\"#d62728\",\"#d62728\",\"#9467bd\",\"#8c564b\",\"#9467bd\",\"#d62728\",\"#d62728\",\"#9467bd\",\"#8c564b\",\"#9467bd\",\"#1f77b4\",\"#9467bd\",\"#d62728\",\"#d62728\",\"#9467bd\",\"#9467bd\",\"#ff7f0e\",\"#8c564b\",\"#9467bd\",\"#d62728\",\"#1f77b4\",\"#8c564b\",\"#9467bd\",\"#9467bd\",\"#d62728\",\"#d62728\",\"#9467bd\",\"#9467bd\",\"#9467bd\",\"#9467bd\",\"#9467bd\",\"#9467bd\",\"#d62728\",\"#d62728\",\"#1f77b4\",\"#9467bd\",\"#8c564b\",\"#9467bd\",\"#9467bd\",\"#9467bd\",\"#9467bd\",\"#8c564b\",\"#8c564b\",\"#9467bd\",\"#d62728\",\"#9467bd\",\"#2ca02c\",\"#9467bd\",\"#9467bd\",\"#d62728\",\"#9467bd\",\"#1f77b4\",\"#9467bd\",\"#9467bd\",\"#9467bd\",\"#8c564b\",\"#8c564b\",\"#9467bd\",\"#9467bd\",\"#8c564b\",\"#8c564b\",\"#9467bd\",\"#9467bd\",\"#ff7f0e\",\"#9467bd\",\"#8c564b\",\"#9467bd\",\"#ff7f0e\",\"#8c564b\",\"#9467bd\",\"#ff7f0e\",\"#ff7f0e\",\"#ff7f0e\",\"#9467bd\",\"#9467bd\",\"#9467bd\",\"#9467bd\",\"#8c564b\",\"#9467bd\",\"#9467bd\",\"#d62728\",\"#1f77b4\",\"#2ca02c\",\"#d62728\",\"#8c564b\",\"#8c564b\",\"#9467bd\",\"#ff7f0e\",\"#2ca02c\",\"#9467bd\",\"#9467bd\",\"#8c564b\",\"#9467bd\",\"#9467bd\",\"#9467bd\",\"#9467bd\",\"#1f77b4\",\"#9467bd\",\"#9467bd\",\"#9467bd\",\"#2ca02c\",\"#9467bd\",\"#d62728\",\"#9467bd\",\"#8c564b\",\"#d62728\",\"#9467bd\",\"#9467bd\",\"#9467bd\",\"#9467bd\",\"#8c564b\",\"#8c564b\",\"#2ca02c\",\"#9467bd\",\"#9467bd\",\"#9467bd\",\"#2ca02c\",\"#9467bd\",\"#9467bd\",\"#d62728\",\"#9467bd\",\"#8c564b\",\"#9467bd\",\"#9467bd\",\"#9467bd\",\"#9467bd\",\"#ff7f0e\",\"#ff7f0e\",\"#8c564b\",\"#8c564b\",\"#d62728\",\"#1f77b4\",\"#9467bd\",\"#9467bd\",\"#8c564b\",\"#8c564b\",\"#9467bd\",\"#9467bd\",\"#1f77b4\",\"#1f77b4\",\"#9467bd\",\"#9467bd\",\"#8c564b\",\"#9467bd\",\"#9467bd\",\"#1f77b4\",\"#9467bd\",\"#ff7f0e\",\"#1f77b4\",\"#9467bd\",\"#d62728\",\"#9467bd\",\"#9467bd\",\"#9467bd\",\"#1f77b4\",\"#9467bd\",\"#9467bd\",\"#d62728\",\"#9467bd\",\"#9467bd\",\"#9467bd\",\"#8c564b\",\"#9467bd\",\"#8c564b\",\"#9467bd\",\"#9467bd\",\"#9467bd\",\"#9467bd\",\"#d62728\",\"#9467bd\",\"#8c564b\",\"#9467bd\",\"#9467bd\",\"#9467bd\",\"#d62728\",\"#ff7f0e\",\"#9467bd\",\"#9467bd\",\"#1f77b4\",\"#ff7f0e\",\"#9467bd\",\"#ff7f0e\",\"#8c564b\",\"#ff7f0e\",\"#9467bd\",\"#1f77b4\",\"#8c564b\",\"#9467bd\",\"#9467bd\",\"#9467bd\",\"#9467bd\",\"#9467bd\",\"#2ca02c\",\"#9467bd\",\"#9467bd\",\"#9467bd\",\"#9467bd\",\"#9467bd\",\"#9467bd\",\"#8c564b\",\"#9467bd\",\"#ff7f0e\",\"#2ca02c\",\"#8c564b\",\"#8c564b\",\"#9467bd\",\"#2ca02c\",\"#8c564b\",\"#9467bd\",\"#9467bd\",\"#9467bd\",\"#9467bd\",\"#9467bd\",\"#8c564b\",\"#8c564b\",\"#9467bd\",\"#ff7f0e\",\"#9467bd\",\"#2ca02c\",\"#8c564b\",\"#9467bd\",\"#2ca02c\",\"#9467bd\",\"#9467bd\",\"#8c564b\",\"#9467bd\",\"#8c564b\",\"#1f77b4\",\"#ff7f0e\",\"#9467bd\",\"#8c564b\",\"#8c564b\",\"#2ca02c\",\"#8c564b\",\"#8c564b\",\"#9467bd\",\"#9467bd\",\"#1f77b4\",\"#8c564b\",\"#1f77b4\",\"#9467bd\",\"#9467bd\",\"#8c564b\",\"#9467bd\",\"#9467bd\",\"#9467bd\",\"#9467bd\",\"#ff7f0e\",\"#8c564b\",\"#8c564b\",\"#d62728\",\"#9467bd\",\"#9467bd\",\"#9467bd\",\"#8c564b\",\"#9467bd\",\"#9467bd\",\"#9467bd\",\"#9467bd\",\"#9467bd\",\"#9467bd\",\"#9467bd\",\"#9467bd\",\"#9467bd\",\"#9467bd\",\"#9467bd\",\"#9467bd\",\"#1f77b4\",\"#9467bd\",\"#9467bd\",\"#9467bd\",\"#ff7f0e\",\"#8c564b\",\"#8c564b\",\"#9467bd\",\"#9467bd\",\"#9467bd\",\"#1f77b4\",\"#9467bd\",\"#9467bd\",\"#9467bd\",\"#8c564b\",\"#1f77b4\",\"#9467bd\",\"#2ca02c\",\"#d62728\",\"#9467bd\",\"#9467bd\",\"#d62728\",\"#9467bd\",\"#9467bd\",\"#8c564b\",\"#ff7f0e\",\"#8c564b\",\"#8c564b\",\"#ff7f0e\",\"#9467bd\",\"#ff7f0e\",\"#9467bd\",\"#8c564b\",\"#8c564b\",\"#8c564b\",\"#1f77b4\",\"#9467bd\",\"#ff7f0e\",\"#9467bd\",\"#9467bd\",\"#9467bd\",\"#ff7f0e\",\"#9467bd\",\"#8c564b\",\"#ff7f0e\",\"#2ca02c\",\"#8c564b\",\"#1f77b4\",\"#ff7f0e\",\"#9467bd\",\"#ff7f0e\",\"#8c564b\",\"#9467bd\",\"#9467bd\",\"#9467bd\",\"#1f77b4\",\"#9467bd\",\"#9467bd\",\"#ff7f0e\",\"#9467bd\",\"#8c564b\",\"#9467bd\",\"#9467bd\",\"#2ca02c\",\"#9467bd\",\"#8c564b\",\"#d62728\",\"#1f77b4\",\"#9467bd\",\"#ff7f0e\",\"#9467bd\",\"#9467bd\",\"#ff7f0e\",\"#d62728\",\"#9467bd\",\"#9467bd\",\"#2ca02c\",\"#1f77b4\",\"#ff7f0e\",\"#8c564b\",\"#9467bd\",\"#2ca02c\",\"#9467bd\",\"#9467bd\",\"#9467bd\",\"#1f77b4\",\"#8c564b\",\"#1f77b4\",\"#8c564b\",\"#8c564b\",\"#2ca02c\",\"#1f77b4\",\"#9467bd\",\"#9467bd\",\"#9467bd\",\"#9467bd\",\"#8c564b\",\"#9467bd\",\"#9467bd\",\"#9467bd\",\"#d62728\",\"#8c564b\",\"#d62728\",\"#8c564b\",\"#8c564b\",\"#2ca02c\",\"#ff7f0e\",\"#1f77b4\",\"#ff7f0e\",\"#9467bd\",\"#ff7f0e\",\"#9467bd\",\"#2ca02c\",\"#9467bd\",\"#1f77b4\",\"#9467bd\",\"#9467bd\",\"#9467bd\",\"#9467bd\",\"#9467bd\",\"#2ca02c\",\"#2ca02c\",\"#9467bd\",\"#9467bd\",\"#ff7f0e\",\"#9467bd\",\"#9467bd\",\"#8c564b\",\"#9467bd\",\"#9467bd\",\"#ff7f0e\",\"#9467bd\",\"#8c564b\",\"#9467bd\",\"#9467bd\",\"#ff7f0e\",\"#8c564b\",\"#9467bd\",\"#9467bd\",\"#9467bd\",\"#8c564b\",\"#ff7f0e\",\"#ff7f0e\",\"#9467bd\",\"#9467bd\",\"#9467bd\",\"#2ca02c\",\"#ff7f0e\",\"#9467bd\",\"#ff7f0e\",\"#8c564b\",\"#ff7f0e\",\"#9467bd\",\"#9467bd\",\"#9467bd\",\"#8c564b\",\"#9467bd\",\"#d62728\",\"#d62728\",\"#8c564b\",\"#9467bd\",\"#2ca02c\",\"#2ca02c\",\"#9467bd\",\"#9467bd\",\"#ff7f0e\",\"#8c564b\",\"#9467bd\",\"#9467bd\",\"#9467bd\",\"#1f77b4\",\"#9467bd\",\"#ff7f0e\",\"#8c564b\",\"#1f77b4\",\"#8c564b\",\"#ff7f0e\",\"#8c564b\",\"#ff7f0e\",\"#8c564b\",\"#8c564b\",\"#2ca02c\",\"#8c564b\",\"#8c564b\",\"#8c564b\",\"#8c564b\",\"#8c564b\",\"#ff7f0e\",\"#8c564b\",\"#2ca02c\",\"#8c564b\",\"#8c564b\",\"#ff7f0e\",\"#8c564b\",\"#8c564b\",\"#8c564b\",\"#8c564b\",\"#8c564b\",\"#8c564b\",\"#8c564b\",\"#ff7f0e\",\"#ff7f0e\",\"#8c564b\",\"#8c564b\",\"#8c564b\",\"#ff7f0e\",\"#ff7f0e\",\"#ff7f0e\",\"#2ca02c\",\"#8c564b\",\"#ff7f0e\",\"#8c564b\",\"#ff7f0e\",\"#2ca02c\",\"#8c564b\",\"#2ca02c\",\"#8c564b\",\"#ff7f0e\",\"#2ca02c\",\"#8c564b\",\"#2ca02c\",\"#8c564b\",\"#8c564b\",\"#8c564b\",\"#8c564b\",\"#8c564b\",\"#8c564b\",\"#8c564b\",\"#2ca02c\",\"#2ca02c\",\"#8c564b\",\"#2ca02c\",\"#8c564b\",\"#2ca02c\",\"#8c564b\",\"#8c564b\",\"#8c564b\",\"#ff7f0e\",\"#8c564b\",\"#8c564b\",\"#8c564b\",\"#8c564b\",\"#8c564b\",\"#8c564b\",\"#2ca02c\",\"#2ca02c\",\"#8c564b\",\"#9467bd\",\"#8c564b\",\"#8c564b\",\"#2ca02c\",\"#8c564b\",\"#8c564b\",\"#ff7f0e\",\"#8c564b\",\"#8c564b\",\"#2ca02c\",\"#8c564b\",\"#9467bd\",\"#8c564b\",\"#2ca02c\",\"#ff7f0e\",\"#8c564b\",\"#8c564b\",\"#2ca02c\",\"#1f77b4\",\"#8c564b\",\"#8c564b\",\"#2ca02c\",\"#ff7f0e\",\"#8c564b\",\"#ff7f0e\",\"#8c564b\",\"#8c564b\",\"#8c564b\",\"#9467bd\",\"#8c564b\",\"#2ca02c\",\"#2ca02c\",\"#8c564b\",\"#8c564b\",\"#8c564b\",\"#9467bd\",\"#8c564b\",\"#8c564b\",\"#8c564b\",\"#2ca02c\",\"#9467bd\",\"#2ca02c\",\"#ff7f0e\",\"#8c564b\",\"#2ca02c\",\"#2ca02c\",\"#2ca02c\",\"#2ca02c\",\"#8c564b\",\"#9467bd\",\"#2ca02c\",\"#8c564b\",\"#8c564b\",\"#ff7f0e\",\"#8c564b\",\"#8c564b\",\"#ff7f0e\",\"#2ca02c\",\"#1f77b4\",\"#9467bd\",\"#8c564b\",\"#8c564b\",\"#2ca02c\",\"#ff7f0e\",\"#2ca02c\",\"#8c564b\",\"#8c564b\",\"#8c564b\",\"#9467bd\",\"#8c564b\",\"#8c564b\",\"#2ca02c\",\"#8c564b\",\"#9467bd\",\"#8c564b\",\"#2ca02c\",\"#2ca02c\",\"#8c564b\",\"#9467bd\",\"#ff7f0e\",\"#ff7f0e\",\"#2ca02c\",\"#9467bd\",\"#8c564b\",\"#8c564b\",\"#2ca02c\",\"#8c564b\",\"#8c564b\",\"#2ca02c\",\"#8c564b\",\"#8c564b\",\"#8c564b\",\"#ff7f0e\",\"#8c564b\",\"#8c564b\",\"#ff7f0e\",\"#2ca02c\",\"#2ca02c\",\"#2ca02c\",\"#2ca02c\",\"#8c564b\",\"#9467bd\",\"#ff7f0e\",\"#2ca02c\",\"#2ca02c\",\"#8c564b\",\"#2ca02c\",\"#ff7f0e\",\"#8c564b\",\"#8c564b\",\"#2ca02c\",\"#8c564b\",\"#ff7f0e\",\"#1f77b4\",\"#2ca02c\",\"#2ca02c\",\"#9467bd\",\"#d62728\",\"#8c564b\",\"#ff7f0e\",\"#2ca02c\",\"#8c564b\",\"#8c564b\",\"#8c564b\",\"#2ca02c\",\"#8c564b\",\"#2ca02c\",\"#ff7f0e\",\"#2ca02c\",\"#2ca02c\",\"#8c564b\",\"#ff7f0e\",\"#8c564b\",\"#8c564b\",\"#8c564b\",\"#8c564b\",\"#8c564b\",\"#2ca02c\",\"#ff7f0e\",\"#ff7f0e\",\"#8c564b\",\"#2ca02c\",\"#8c564b\",\"#2ca02c\",\"#9467bd\",\"#2ca02c\",\"#8c564b\",\"#2ca02c\",\"#1f77b4\",\"#9467bd\",\"#2ca02c\",\"#8c564b\",\"#2ca02c\",\"#2ca02c\",\"#2ca02c\",\"#8c564b\",\"#2ca02c\",\"#8c564b\",\"#2ca02c\",\"#8c564b\",\"#2ca02c\",\"#8c564b\",\"#8c564b\",\"#2ca02c\",\"#ff7f0e\",\"#8c564b\",\"#9467bd\",\"#2ca02c\",\"#8c564b\",\"#8c564b\",\"#8c564b\",\"#8c564b\",\"#8c564b\",\"#2ca02c\",\"#2ca02c\",\"#8c564b\",\"#ff7f0e\",\"#2ca02c\",\"#8c564b\",\"#8c564b\",\"#ff7f0e\",\"#8c564b\",\"#2ca02c\",\"#2ca02c\",\"#8c564b\",\"#8c564b\",\"#8c564b\",\"#ff7f0e\",\"#2ca02c\",\"#2ca02c\",\"#8c564b\",\"#2ca02c\",\"#8c564b\",\"#2ca02c\",\"#8c564b\",\"#8c564b\",\"#8c564b\",\"#8c564b\",\"#8c564b\",\"#2ca02c\",\"#2ca02c\",\"#ff7f0e\",\"#ff7f0e\",\"#1f77b4\",\"#8c564b\",\"#9467bd\",\"#9467bd\",\"#9467bd\",\"#8c564b\",\"#2ca02c\",\"#8c564b\",\"#8c564b\",\"#8c564b\",\"#8c564b\",\"#8c564b\",\"#8c564b\",\"#2ca02c\",\"#9467bd\",\"#ff7f0e\",\"#8c564b\",\"#1f77b4\",\"#2ca02c\",\"#8c564b\",\"#8c564b\",\"#8c564b\",\"#8c564b\",\"#2ca02c\",\"#8c564b\",\"#8c564b\",\"#8c564b\",\"#2ca02c\",\"#2ca02c\",\"#2ca02c\",\"#2ca02c\",\"#ff7f0e\",\"#8c564b\",\"#2ca02c\",\"#2ca02c\",\"#8c564b\",\"#8c564b\",\"#8c564b\",\"#2ca02c\",\"#8c564b\",\"#8c564b\",\"#8c564b\",\"#2ca02c\",\"#9467bd\",\"#8c564b\",\"#ff7f0e\",\"#1f77b4\",\"#8c564b\",\"#8c564b\",\"#2ca02c\",\"#8c564b\",\"#8c564b\",\"#9467bd\",\"#8c564b\",\"#ff7f0e\",\"#8c564b\",\"#8c564b\",\"#8c564b\",\"#2ca02c\",\"#8c564b\",\"#8c564b\",\"#8c564b\",\"#2ca02c\",\"#8c564b\",\"#8c564b\",\"#ff7f0e\",\"#8c564b\",\"#8c564b\",\"#1f77b4\",\"#8c564b\",\"#2ca02c\",\"#8c564b\",\"#8c564b\",\"#2ca02c\",\"#8c564b\",\"#8c564b\",\"#8c564b\",\"#8c564b\",\"#8c564b\",\"#ff7f0e\",\"#2ca02c\",\"#8c564b\",\"#8c564b\",\"#8c564b\",\"#8c564b\",\"#2ca02c\",\"#8c564b\",\"#8c564b\",\"#2ca02c\",\"#8c564b\",\"#8c564b\",\"#8c564b\",\"#8c564b\",\"#8c564b\",\"#2ca02c\",\"#2ca02c\",\"#2ca02c\",\"#2ca02c\",\"#2ca02c\",\"#8c564b\",\"#8c564b\",\"#8c564b\",\"#ff7f0e\",\"#2ca02c\",\"#8c564b\",\"#8c564b\",\"#ff7f0e\",\"#8c564b\",\"#2ca02c\",\"#8c564b\",\"#ff7f0e\",\"#9467bd\",\"#8c564b\",\"#8c564b\",\"#8c564b\",\"#2ca02c\",\"#ff7f0e\",\"#8c564b\",\"#ff7f0e\",\"#8c564b\",\"#8c564b\",\"#8c564b\",\"#8c564b\",\"#9467bd\",\"#8c564b\",\"#8c564b\",\"#2ca02c\",\"#2ca02c\",\"#2ca02c\",\"#9467bd\",\"#ff7f0e\",\"#8c564b\",\"#2ca02c\",\"#ff7f0e\",\"#8c564b\",\"#2ca02c\",\"#ff7f0e\",\"#8c564b\",\"#8c564b\",\"#8c564b\",\"#8c564b\",\"#2ca02c\",\"#8c564b\",\"#8c564b\",\"#8c564b\",\"#8c564b\",\"#2ca02c\",\"#8c564b\",\"#ff7f0e\",\"#2ca02c\",\"#2ca02c\",\"#8c564b\",\"#8c564b\",\"#8c564b\",\"#8c564b\",\"#8c564b\",\"#8c564b\",\"#2ca02c\",\"#ff7f0e\",\"#8c564b\",\"#8c564b\",\"#9467bd\",\"#d62728\"],\"shape\":[1448],\"dtype\":\"object\",\"order\":\"little\"}],[\"fill_color\",{\"type\":\"ndarray\",\"array\":[\"#9467bd\",\"#9467bd\",\"#9467bd\",\"#9467bd\",\"#9467bd\",\"#ff7f0e\",\"#d62728\",\"#9467bd\",\"#ff7f0e\",\"#9467bd\",\"#9467bd\",\"#9467bd\",\"#9467bd\",\"#9467bd\",\"#9467bd\",\"#9467bd\",\"#1f77b4\",\"#9467bd\",\"#9467bd\",\"#1f77b4\",\"#9467bd\",\"#ff7f0e\",\"#1f77b4\",\"#9467bd\",\"#1f77b4\",\"#9467bd\",\"#1f77b4\",\"#9467bd\",\"#9467bd\",\"#9467bd\",\"#9467bd\",\"#9467bd\",\"#9467bd\",\"#9467bd\",\"#9467bd\",\"#ff7f0e\",\"#9467bd\",\"#9467bd\",\"#1f77b4\",\"#9467bd\",\"#9467bd\",\"#1f77b4\",\"#9467bd\",\"#ff7f0e\",\"#9467bd\",\"#9467bd\",\"#ff7f0e\",\"#9467bd\",\"#1f77b4\",\"#ff7f0e\",\"#ff7f0e\",\"#ff7f0e\",\"#9467bd\",\"#1f77b4\",\"#9467bd\",\"#9467bd\",\"#ff7f0e\",\"#1f77b4\",\"#9467bd\",\"#9467bd\",\"#1f77b4\",\"#1f77b4\",\"#9467bd\",\"#9467bd\",\"#1f77b4\",\"#9467bd\",\"#9467bd\",\"#1f77b4\",\"#9467bd\",\"#9467bd\",\"#9467bd\",\"#1f77b4\",\"#9467bd\",\"#9467bd\",\"#9467bd\",\"#9467bd\",\"#1f77b4\",\"#9467bd\",\"#8c564b\",\"#9467bd\",\"#9467bd\",\"#1f77b4\",\"#9467bd\",\"#9467bd\",\"#1f77b4\",\"#1f77b4\",\"#1f77b4\",\"#9467bd\",\"#9467bd\",\"#ff7f0e\",\"#1f77b4\",\"#9467bd\",\"#9467bd\",\"#1f77b4\",\"#9467bd\",\"#8c564b\",\"#9467bd\",\"#9467bd\",\"#9467bd\",\"#1f77b4\",\"#9467bd\",\"#1f77b4\",\"#1f77b4\",\"#9467bd\",\"#9467bd\",\"#9467bd\",\"#9467bd\",\"#1f77b4\",\"#ff7f0e\",\"#1f77b4\",\"#9467bd\",\"#1f77b4\",\"#9467bd\",\"#ff7f0e\",\"#9467bd\",\"#9467bd\",\"#9467bd\",\"#9467bd\",\"#9467bd\",\"#8c564b\",\"#1f77b4\",\"#1f77b4\",\"#1f77b4\",\"#9467bd\",\"#9467bd\",\"#1f77b4\",\"#1f77b4\",\"#9467bd\",\"#1f77b4\",\"#9467bd\",\"#9467bd\",\"#9467bd\",\"#9467bd\",\"#1f77b4\",\"#9467bd\",\"#1f77b4\",\"#1f77b4\",\"#9467bd\",\"#9467bd\",\"#ff7f0e\",\"#1f77b4\",\"#ff7f0e\",\"#1f77b4\",\"#8c564b\",\"#9467bd\",\"#9467bd\",\"#9467bd\",\"#9467bd\",\"#1f77b4\",\"#9467bd\",\"#1f77b4\",\"#9467bd\",\"#9467bd\",\"#8c564b\",\"#9467bd\",\"#1f77b4\",\"#1f77b4\",\"#8c564b\",\"#ff7f0e\",\"#9467bd\",\"#9467bd\",\"#9467bd\",\"#9467bd\",\"#9467bd\",\"#9467bd\",\"#1f77b4\",\"#1f77b4\",\"#9467bd\",\"#ff7f0e\",\"#1f77b4\",\"#9467bd\",\"#9467bd\",\"#9467bd\",\"#ff7f0e\",\"#9467bd\",\"#9467bd\",\"#9467bd\",\"#1f77b4\",\"#8c564b\",\"#9467bd\",\"#9467bd\",\"#9467bd\",\"#9467bd\",\"#9467bd\",\"#9467bd\",\"#9467bd\",\"#1f77b4\",\"#9467bd\",\"#1f77b4\",\"#9467bd\",\"#1f77b4\",\"#1f77b4\",\"#9467bd\",\"#9467bd\",\"#9467bd\",\"#1f77b4\",\"#9467bd\",\"#8c564b\",\"#8c564b\",\"#9467bd\",\"#ff7f0e\",\"#8c564b\",\"#1f77b4\",\"#9467bd\",\"#1f77b4\",\"#9467bd\",\"#9467bd\",\"#9467bd\",\"#1f77b4\",\"#1f77b4\",\"#9467bd\",\"#9467bd\",\"#1f77b4\",\"#ff7f0e\",\"#1f77b4\",\"#9467bd\",\"#9467bd\",\"#9467bd\",\"#9467bd\",\"#9467bd\",\"#1f77b4\",\"#9467bd\",\"#1f77b4\",\"#9467bd\",\"#9467bd\",\"#ff7f0e\",\"#ff7f0e\",\"#9467bd\",\"#9467bd\",\"#9467bd\",\"#1f77b4\",\"#1f77b4\",\"#9467bd\",\"#9467bd\",\"#9467bd\",\"#9467bd\",\"#9467bd\",\"#1f77b4\",\"#9467bd\",\"#9467bd\",\"#1f77b4\",\"#2ca02c\",\"#1f77b4\",\"#9467bd\",\"#9467bd\",\"#9467bd\",\"#9467bd\",\"#1f77b4\",\"#1f77b4\",\"#1f77b4\",\"#9467bd\",\"#9467bd\",\"#8c564b\",\"#1f77b4\",\"#9467bd\",\"#9467bd\",\"#9467bd\",\"#9467bd\",\"#9467bd\",\"#9467bd\",\"#9467bd\",\"#1f77b4\",\"#1f77b4\",\"#1f77b4\",\"#9467bd\",\"#9467bd\",\"#9467bd\",\"#1f77b4\",\"#1f77b4\",\"#ff7f0e\",\"#9467bd\",\"#8c564b\",\"#9467bd\",\"#1f77b4\",\"#1f77b4\",\"#9467bd\",\"#1f77b4\",\"#9467bd\",\"#1f77b4\",\"#9467bd\",\"#9467bd\",\"#1f77b4\",\"#ff7f0e\",\"#9467bd\",\"#1f77b4\",\"#9467bd\",\"#1f77b4\",\"#9467bd\",\"#1f77b4\",\"#9467bd\",\"#1f77b4\",\"#9467bd\",\"#9467bd\",\"#1f77b4\",\"#2ca02c\",\"#1f77b4\",\"#1f77b4\",\"#9467bd\",\"#9467bd\",\"#9467bd\",\"#9467bd\",\"#ff7f0e\",\"#ff7f0e\",\"#ff7f0e\",\"#8c564b\",\"#1f77b4\",\"#9467bd\",\"#1f77b4\",\"#9467bd\",\"#ff7f0e\",\"#9467bd\",\"#9467bd\",\"#9467bd\",\"#9467bd\",\"#1f77b4\",\"#8c564b\",\"#ff7f0e\",\"#1f77b4\",\"#9467bd\",\"#ff7f0e\",\"#8c564b\",\"#1f77b4\",\"#1f77b4\",\"#ff7f0e\",\"#9467bd\",\"#2ca02c\",\"#1f77b4\",\"#9467bd\",\"#9467bd\",\"#9467bd\",\"#d62728\",\"#d62728\",\"#d62728\",\"#2ca02c\",\"#d62728\",\"#d62728\",\"#d62728\",\"#d62728\",\"#d62728\",\"#9467bd\",\"#d62728\",\"#1f77b4\",\"#d62728\",\"#9467bd\",\"#8c564b\",\"#1f77b4\",\"#8c564b\",\"#9467bd\",\"#9467bd\",\"#9467bd\",\"#8c564b\",\"#2ca02c\",\"#2ca02c\",\"#ff7f0e\",\"#9467bd\",\"#d62728\",\"#d62728\",\"#9467bd\",\"#9467bd\",\"#8c564b\",\"#d62728\",\"#8c564b\",\"#9467bd\",\"#8c564b\",\"#d62728\",\"#9467bd\",\"#d62728\",\"#d62728\",\"#d62728\",\"#8c564b\",\"#9467bd\",\"#d62728\",\"#d62728\",\"#9467bd\",\"#9467bd\",\"#9467bd\",\"#d62728\",\"#8c564b\",\"#9467bd\",\"#9467bd\",\"#9467bd\",\"#d62728\",\"#8c564b\",\"#d62728\",\"#9467bd\",\"#1f77b4\",\"#d62728\",\"#d62728\",\"#9467bd\",\"#9467bd\",\"#9467bd\",\"#8c564b\",\"#8c564b\",\"#9467bd\",\"#9467bd\",\"#8c564b\",\"#9467bd\",\"#9467bd\",\"#d62728\",\"#ff7f0e\",\"#8c564b\",\"#1f77b4\",\"#d62728\",\"#9467bd\",\"#9467bd\",\"#8c564b\",\"#d62728\",\"#9467bd\",\"#8c564b\",\"#9467bd\",\"#1f77b4\",\"#9467bd\",\"#9467bd\",\"#2ca02c\",\"#d62728\",\"#8c564b\",\"#d62728\",\"#d62728\",\"#9467bd\",\"#9467bd\",\"#9467bd\",\"#8c564b\",\"#9467bd\",\"#d62728\",\"#9467bd\",\"#d62728\",\"#9467bd\",\"#9467bd\",\"#ff7f0e\",\"#8c564b\",\"#9467bd\",\"#9467bd\",\"#d62728\",\"#9467bd\",\"#ff7f0e\",\"#9467bd\",\"#2ca02c\",\"#1f77b4\",\"#9467bd\",\"#9467bd\",\"#9467bd\",\"#8c564b\",\"#8c564b\",\"#d62728\",\"#d62728\",\"#1f77b4\",\"#9467bd\",\"#9467bd\",\"#d62728\",\"#8c564b\",\"#9467bd\",\"#d62728\",\"#9467bd\",\"#d62728\",\"#d62728\",\"#8c564b\",\"#1f77b4\",\"#9467bd\",\"#d62728\",\"#d62728\",\"#9467bd\",\"#8c564b\",\"#9467bd\",\"#9467bd\",\"#ff7f0e\",\"#8c564b\",\"#9467bd\",\"#ff7f0e\",\"#9467bd\",\"#d62728\",\"#8c564b\",\"#8c564b\",\"#9467bd\",\"#9467bd\",\"#9467bd\",\"#9467bd\",\"#9467bd\",\"#8c564b\",\"#9467bd\",\"#9467bd\",\"#8c564b\",\"#9467bd\",\"#9467bd\",\"#d62728\",\"#8c564b\",\"#9467bd\",\"#d62728\",\"#d62728\",\"#d62728\",\"#ff7f0e\",\"#9467bd\",\"#9467bd\",\"#d62728\",\"#9467bd\",\"#9467bd\",\"#d62728\",\"#9467bd\",\"#d62728\",\"#d62728\",\"#9467bd\",\"#9467bd\",\"#9467bd\",\"#d62728\",\"#9467bd\",\"#d62728\",\"#d62728\",\"#8c564b\",\"#d62728\",\"#d62728\",\"#d62728\",\"#ff7f0e\",\"#d62728\",\"#d62728\",\"#d62728\",\"#9467bd\",\"#9467bd\",\"#8c564b\",\"#9467bd\",\"#d62728\",\"#9467bd\",\"#8c564b\",\"#d62728\",\"#ff7f0e\",\"#d62728\",\"#8c564b\",\"#9467bd\",\"#9467bd\",\"#d62728\",\"#d62728\",\"#d62728\",\"#d62728\",\"#d62728\",\"#9467bd\",\"#9467bd\",\"#ff7f0e\",\"#9467bd\",\"#d62728\",\"#8c564b\",\"#ff7f0e\",\"#d62728\",\"#1f77b4\",\"#1f77b4\",\"#9467bd\",\"#d62728\",\"#8c564b\",\"#9467bd\",\"#9467bd\",\"#9467bd\",\"#d62728\",\"#d62728\",\"#8c564b\",\"#9467bd\",\"#9467bd\",\"#9467bd\",\"#d62728\",\"#9467bd\",\"#8c564b\",\"#9467bd\",\"#8c564b\",\"#9467bd\",\"#9467bd\",\"#d62728\",\"#ff7f0e\",\"#9467bd\",\"#9467bd\",\"#9467bd\",\"#9467bd\",\"#d62728\",\"#d62728\",\"#d62728\",\"#9467bd\",\"#8c564b\",\"#9467bd\",\"#d62728\",\"#d62728\",\"#9467bd\",\"#8c564b\",\"#9467bd\",\"#1f77b4\",\"#9467bd\",\"#d62728\",\"#d62728\",\"#9467bd\",\"#9467bd\",\"#ff7f0e\",\"#8c564b\",\"#9467bd\",\"#d62728\",\"#1f77b4\",\"#8c564b\",\"#9467bd\",\"#9467bd\",\"#d62728\",\"#d62728\",\"#9467bd\",\"#9467bd\",\"#9467bd\",\"#9467bd\",\"#9467bd\",\"#9467bd\",\"#d62728\",\"#d62728\",\"#1f77b4\",\"#9467bd\",\"#8c564b\",\"#9467bd\",\"#9467bd\",\"#9467bd\",\"#9467bd\",\"#8c564b\",\"#8c564b\",\"#9467bd\",\"#d62728\",\"#9467bd\",\"#2ca02c\",\"#9467bd\",\"#9467bd\",\"#d62728\",\"#9467bd\",\"#1f77b4\",\"#9467bd\",\"#9467bd\",\"#9467bd\",\"#8c564b\",\"#8c564b\",\"#9467bd\",\"#9467bd\",\"#8c564b\",\"#8c564b\",\"#9467bd\",\"#9467bd\",\"#ff7f0e\",\"#9467bd\",\"#8c564b\",\"#9467bd\",\"#ff7f0e\",\"#8c564b\",\"#9467bd\",\"#ff7f0e\",\"#ff7f0e\",\"#ff7f0e\",\"#9467bd\",\"#9467bd\",\"#9467bd\",\"#9467bd\",\"#8c564b\",\"#9467bd\",\"#9467bd\",\"#d62728\",\"#1f77b4\",\"#2ca02c\",\"#d62728\",\"#8c564b\",\"#8c564b\",\"#9467bd\",\"#ff7f0e\",\"#2ca02c\",\"#9467bd\",\"#9467bd\",\"#8c564b\",\"#9467bd\",\"#9467bd\",\"#9467bd\",\"#9467bd\",\"#1f77b4\",\"#9467bd\",\"#9467bd\",\"#9467bd\",\"#2ca02c\",\"#9467bd\",\"#d62728\",\"#9467bd\",\"#8c564b\",\"#d62728\",\"#9467bd\",\"#9467bd\",\"#9467bd\",\"#9467bd\",\"#8c564b\",\"#8c564b\",\"#2ca02c\",\"#9467bd\",\"#9467bd\",\"#9467bd\",\"#2ca02c\",\"#9467bd\",\"#9467bd\",\"#d62728\",\"#9467bd\",\"#8c564b\",\"#9467bd\",\"#9467bd\",\"#9467bd\",\"#9467bd\",\"#ff7f0e\",\"#ff7f0e\",\"#8c564b\",\"#8c564b\",\"#d62728\",\"#1f77b4\",\"#9467bd\",\"#9467bd\",\"#8c564b\",\"#8c564b\",\"#9467bd\",\"#9467bd\",\"#1f77b4\",\"#1f77b4\",\"#9467bd\",\"#9467bd\",\"#8c564b\",\"#9467bd\",\"#9467bd\",\"#1f77b4\",\"#9467bd\",\"#ff7f0e\",\"#1f77b4\",\"#9467bd\",\"#d62728\",\"#9467bd\",\"#9467bd\",\"#9467bd\",\"#1f77b4\",\"#9467bd\",\"#9467bd\",\"#d62728\",\"#9467bd\",\"#9467bd\",\"#9467bd\",\"#8c564b\",\"#9467bd\",\"#8c564b\",\"#9467bd\",\"#9467bd\",\"#9467bd\",\"#9467bd\",\"#d62728\",\"#9467bd\",\"#8c564b\",\"#9467bd\",\"#9467bd\",\"#9467bd\",\"#d62728\",\"#ff7f0e\",\"#9467bd\",\"#9467bd\",\"#1f77b4\",\"#ff7f0e\",\"#9467bd\",\"#ff7f0e\",\"#8c564b\",\"#ff7f0e\",\"#9467bd\",\"#1f77b4\",\"#8c564b\",\"#9467bd\",\"#9467bd\",\"#9467bd\",\"#9467bd\",\"#9467bd\",\"#2ca02c\",\"#9467bd\",\"#9467bd\",\"#9467bd\",\"#9467bd\",\"#9467bd\",\"#9467bd\",\"#8c564b\",\"#9467bd\",\"#ff7f0e\",\"#2ca02c\",\"#8c564b\",\"#8c564b\",\"#9467bd\",\"#2ca02c\",\"#8c564b\",\"#9467bd\",\"#9467bd\",\"#9467bd\",\"#9467bd\",\"#9467bd\",\"#8c564b\",\"#8c564b\",\"#9467bd\",\"#ff7f0e\",\"#9467bd\",\"#2ca02c\",\"#8c564b\",\"#9467bd\",\"#2ca02c\",\"#9467bd\",\"#9467bd\",\"#8c564b\",\"#9467bd\",\"#8c564b\",\"#1f77b4\",\"#ff7f0e\",\"#9467bd\",\"#8c564b\",\"#8c564b\",\"#2ca02c\",\"#8c564b\",\"#8c564b\",\"#9467bd\",\"#9467bd\",\"#1f77b4\",\"#8c564b\",\"#1f77b4\",\"#9467bd\",\"#9467bd\",\"#8c564b\",\"#9467bd\",\"#9467bd\",\"#9467bd\",\"#9467bd\",\"#ff7f0e\",\"#8c564b\",\"#8c564b\",\"#d62728\",\"#9467bd\",\"#9467bd\",\"#9467bd\",\"#8c564b\",\"#9467bd\",\"#9467bd\",\"#9467bd\",\"#9467bd\",\"#9467bd\",\"#9467bd\",\"#9467bd\",\"#9467bd\",\"#9467bd\",\"#9467bd\",\"#9467bd\",\"#9467bd\",\"#1f77b4\",\"#9467bd\",\"#9467bd\",\"#9467bd\",\"#ff7f0e\",\"#8c564b\",\"#8c564b\",\"#9467bd\",\"#9467bd\",\"#9467bd\",\"#1f77b4\",\"#9467bd\",\"#9467bd\",\"#9467bd\",\"#8c564b\",\"#1f77b4\",\"#9467bd\",\"#2ca02c\",\"#d62728\",\"#9467bd\",\"#9467bd\",\"#d62728\",\"#9467bd\",\"#9467bd\",\"#8c564b\",\"#ff7f0e\",\"#8c564b\",\"#8c564b\",\"#ff7f0e\",\"#9467bd\",\"#ff7f0e\",\"#9467bd\",\"#8c564b\",\"#8c564b\",\"#8c564b\",\"#1f77b4\",\"#9467bd\",\"#ff7f0e\",\"#9467bd\",\"#9467bd\",\"#9467bd\",\"#ff7f0e\",\"#9467bd\",\"#8c564b\",\"#ff7f0e\",\"#2ca02c\",\"#8c564b\",\"#1f77b4\",\"#ff7f0e\",\"#9467bd\",\"#ff7f0e\",\"#8c564b\",\"#9467bd\",\"#9467bd\",\"#9467bd\",\"#1f77b4\",\"#9467bd\",\"#9467bd\",\"#ff7f0e\",\"#9467bd\",\"#8c564b\",\"#9467bd\",\"#9467bd\",\"#2ca02c\",\"#9467bd\",\"#8c564b\",\"#d62728\",\"#1f77b4\",\"#9467bd\",\"#ff7f0e\",\"#9467bd\",\"#9467bd\",\"#ff7f0e\",\"#d62728\",\"#9467bd\",\"#9467bd\",\"#2ca02c\",\"#1f77b4\",\"#ff7f0e\",\"#8c564b\",\"#9467bd\",\"#2ca02c\",\"#9467bd\",\"#9467bd\",\"#9467bd\",\"#1f77b4\",\"#8c564b\",\"#1f77b4\",\"#8c564b\",\"#8c564b\",\"#2ca02c\",\"#1f77b4\",\"#9467bd\",\"#9467bd\",\"#9467bd\",\"#9467bd\",\"#8c564b\",\"#9467bd\",\"#9467bd\",\"#9467bd\",\"#d62728\",\"#8c564b\",\"#d62728\",\"#8c564b\",\"#8c564b\",\"#2ca02c\",\"#ff7f0e\",\"#1f77b4\",\"#ff7f0e\",\"#9467bd\",\"#ff7f0e\",\"#9467bd\",\"#2ca02c\",\"#9467bd\",\"#1f77b4\",\"#9467bd\",\"#9467bd\",\"#9467bd\",\"#9467bd\",\"#9467bd\",\"#2ca02c\",\"#2ca02c\",\"#9467bd\",\"#9467bd\",\"#ff7f0e\",\"#9467bd\",\"#9467bd\",\"#8c564b\",\"#9467bd\",\"#9467bd\",\"#ff7f0e\",\"#9467bd\",\"#8c564b\",\"#9467bd\",\"#9467bd\",\"#ff7f0e\",\"#8c564b\",\"#9467bd\",\"#9467bd\",\"#9467bd\",\"#8c564b\",\"#ff7f0e\",\"#ff7f0e\",\"#9467bd\",\"#9467bd\",\"#9467bd\",\"#2ca02c\",\"#ff7f0e\",\"#9467bd\",\"#ff7f0e\",\"#8c564b\",\"#ff7f0e\",\"#9467bd\",\"#9467bd\",\"#9467bd\",\"#8c564b\",\"#9467bd\",\"#d62728\",\"#d62728\",\"#8c564b\",\"#9467bd\",\"#2ca02c\",\"#2ca02c\",\"#9467bd\",\"#9467bd\",\"#ff7f0e\",\"#8c564b\",\"#9467bd\",\"#9467bd\",\"#9467bd\",\"#1f77b4\",\"#9467bd\",\"#ff7f0e\",\"#8c564b\",\"#1f77b4\",\"#8c564b\",\"#ff7f0e\",\"#8c564b\",\"#ff7f0e\",\"#8c564b\",\"#8c564b\",\"#2ca02c\",\"#8c564b\",\"#8c564b\",\"#8c564b\",\"#8c564b\",\"#8c564b\",\"#ff7f0e\",\"#8c564b\",\"#2ca02c\",\"#8c564b\",\"#8c564b\",\"#ff7f0e\",\"#8c564b\",\"#8c564b\",\"#8c564b\",\"#8c564b\",\"#8c564b\",\"#8c564b\",\"#8c564b\",\"#ff7f0e\",\"#ff7f0e\",\"#8c564b\",\"#8c564b\",\"#8c564b\",\"#ff7f0e\",\"#ff7f0e\",\"#ff7f0e\",\"#2ca02c\",\"#8c564b\",\"#ff7f0e\",\"#8c564b\",\"#ff7f0e\",\"#2ca02c\",\"#8c564b\",\"#2ca02c\",\"#8c564b\",\"#ff7f0e\",\"#2ca02c\",\"#8c564b\",\"#2ca02c\",\"#8c564b\",\"#8c564b\",\"#8c564b\",\"#8c564b\",\"#8c564b\",\"#8c564b\",\"#8c564b\",\"#2ca02c\",\"#2ca02c\",\"#8c564b\",\"#2ca02c\",\"#8c564b\",\"#2ca02c\",\"#8c564b\",\"#8c564b\",\"#8c564b\",\"#ff7f0e\",\"#8c564b\",\"#8c564b\",\"#8c564b\",\"#8c564b\",\"#8c564b\",\"#8c564b\",\"#2ca02c\",\"#2ca02c\",\"#8c564b\",\"#9467bd\",\"#8c564b\",\"#8c564b\",\"#2ca02c\",\"#8c564b\",\"#8c564b\",\"#ff7f0e\",\"#8c564b\",\"#8c564b\",\"#2ca02c\",\"#8c564b\",\"#9467bd\",\"#8c564b\",\"#2ca02c\",\"#ff7f0e\",\"#8c564b\",\"#8c564b\",\"#2ca02c\",\"#1f77b4\",\"#8c564b\",\"#8c564b\",\"#2ca02c\",\"#ff7f0e\",\"#8c564b\",\"#ff7f0e\",\"#8c564b\",\"#8c564b\",\"#8c564b\",\"#9467bd\",\"#8c564b\",\"#2ca02c\",\"#2ca02c\",\"#8c564b\",\"#8c564b\",\"#8c564b\",\"#9467bd\",\"#8c564b\",\"#8c564b\",\"#8c564b\",\"#2ca02c\",\"#9467bd\",\"#2ca02c\",\"#ff7f0e\",\"#8c564b\",\"#2ca02c\",\"#2ca02c\",\"#2ca02c\",\"#2ca02c\",\"#8c564b\",\"#9467bd\",\"#2ca02c\",\"#8c564b\",\"#8c564b\",\"#ff7f0e\",\"#8c564b\",\"#8c564b\",\"#ff7f0e\",\"#2ca02c\",\"#1f77b4\",\"#9467bd\",\"#8c564b\",\"#8c564b\",\"#2ca02c\",\"#ff7f0e\",\"#2ca02c\",\"#8c564b\",\"#8c564b\",\"#8c564b\",\"#9467bd\",\"#8c564b\",\"#8c564b\",\"#2ca02c\",\"#8c564b\",\"#9467bd\",\"#8c564b\",\"#2ca02c\",\"#2ca02c\",\"#8c564b\",\"#9467bd\",\"#ff7f0e\",\"#ff7f0e\",\"#2ca02c\",\"#9467bd\",\"#8c564b\",\"#8c564b\",\"#2ca02c\",\"#8c564b\",\"#8c564b\",\"#2ca02c\",\"#8c564b\",\"#8c564b\",\"#8c564b\",\"#ff7f0e\",\"#8c564b\",\"#8c564b\",\"#ff7f0e\",\"#2ca02c\",\"#2ca02c\",\"#2ca02c\",\"#2ca02c\",\"#8c564b\",\"#9467bd\",\"#ff7f0e\",\"#2ca02c\",\"#2ca02c\",\"#8c564b\",\"#2ca02c\",\"#ff7f0e\",\"#8c564b\",\"#8c564b\",\"#2ca02c\",\"#8c564b\",\"#ff7f0e\",\"#1f77b4\",\"#2ca02c\",\"#2ca02c\",\"#9467bd\",\"#d62728\",\"#8c564b\",\"#ff7f0e\",\"#2ca02c\",\"#8c564b\",\"#8c564b\",\"#8c564b\",\"#2ca02c\",\"#8c564b\",\"#2ca02c\",\"#ff7f0e\",\"#2ca02c\",\"#2ca02c\",\"#8c564b\",\"#ff7f0e\",\"#8c564b\",\"#8c564b\",\"#8c564b\",\"#8c564b\",\"#8c564b\",\"#2ca02c\",\"#ff7f0e\",\"#ff7f0e\",\"#8c564b\",\"#2ca02c\",\"#8c564b\",\"#2ca02c\",\"#9467bd\",\"#2ca02c\",\"#8c564b\",\"#2ca02c\",\"#1f77b4\",\"#9467bd\",\"#2ca02c\",\"#8c564b\",\"#2ca02c\",\"#2ca02c\",\"#2ca02c\",\"#8c564b\",\"#2ca02c\",\"#8c564b\",\"#2ca02c\",\"#8c564b\",\"#2ca02c\",\"#8c564b\",\"#8c564b\",\"#2ca02c\",\"#ff7f0e\",\"#8c564b\",\"#9467bd\",\"#2ca02c\",\"#8c564b\",\"#8c564b\",\"#8c564b\",\"#8c564b\",\"#8c564b\",\"#2ca02c\",\"#2ca02c\",\"#8c564b\",\"#ff7f0e\",\"#2ca02c\",\"#8c564b\",\"#8c564b\",\"#ff7f0e\",\"#8c564b\",\"#2ca02c\",\"#2ca02c\",\"#8c564b\",\"#8c564b\",\"#8c564b\",\"#ff7f0e\",\"#2ca02c\",\"#2ca02c\",\"#8c564b\",\"#2ca02c\",\"#8c564b\",\"#2ca02c\",\"#8c564b\",\"#8c564b\",\"#8c564b\",\"#8c564b\",\"#8c564b\",\"#2ca02c\",\"#2ca02c\",\"#ff7f0e\",\"#ff7f0e\",\"#1f77b4\",\"#8c564b\",\"#9467bd\",\"#9467bd\",\"#9467bd\",\"#8c564b\",\"#2ca02c\",\"#8c564b\",\"#8c564b\",\"#8c564b\",\"#8c564b\",\"#8c564b\",\"#8c564b\",\"#2ca02c\",\"#9467bd\",\"#ff7f0e\",\"#8c564b\",\"#1f77b4\",\"#2ca02c\",\"#8c564b\",\"#8c564b\",\"#8c564b\",\"#8c564b\",\"#2ca02c\",\"#8c564b\",\"#8c564b\",\"#8c564b\",\"#2ca02c\",\"#2ca02c\",\"#2ca02c\",\"#2ca02c\",\"#ff7f0e\",\"#8c564b\",\"#2ca02c\",\"#2ca02c\",\"#8c564b\",\"#8c564b\",\"#8c564b\",\"#2ca02c\",\"#8c564b\",\"#8c564b\",\"#8c564b\",\"#2ca02c\",\"#9467bd\",\"#8c564b\",\"#ff7f0e\",\"#1f77b4\",\"#8c564b\",\"#8c564b\",\"#2ca02c\",\"#8c564b\",\"#8c564b\",\"#9467bd\",\"#8c564b\",\"#ff7f0e\",\"#8c564b\",\"#8c564b\",\"#8c564b\",\"#2ca02c\",\"#8c564b\",\"#8c564b\",\"#8c564b\",\"#2ca02c\",\"#8c564b\",\"#8c564b\",\"#ff7f0e\",\"#8c564b\",\"#8c564b\",\"#1f77b4\",\"#8c564b\",\"#2ca02c\",\"#8c564b\",\"#8c564b\",\"#2ca02c\",\"#8c564b\",\"#8c564b\",\"#8c564b\",\"#8c564b\",\"#8c564b\",\"#ff7f0e\",\"#2ca02c\",\"#8c564b\",\"#8c564b\",\"#8c564b\",\"#8c564b\",\"#2ca02c\",\"#8c564b\",\"#8c564b\",\"#2ca02c\",\"#8c564b\",\"#8c564b\",\"#8c564b\",\"#8c564b\",\"#8c564b\",\"#2ca02c\",\"#2ca02c\",\"#2ca02c\",\"#2ca02c\",\"#2ca02c\",\"#8c564b\",\"#8c564b\",\"#8c564b\",\"#ff7f0e\",\"#2ca02c\",\"#8c564b\",\"#8c564b\",\"#ff7f0e\",\"#8c564b\",\"#2ca02c\",\"#8c564b\",\"#ff7f0e\",\"#9467bd\",\"#8c564b\",\"#8c564b\",\"#8c564b\",\"#2ca02c\",\"#ff7f0e\",\"#8c564b\",\"#ff7f0e\",\"#8c564b\",\"#8c564b\",\"#8c564b\",\"#8c564b\",\"#9467bd\",\"#8c564b\",\"#8c564b\",\"#2ca02c\",\"#2ca02c\",\"#2ca02c\",\"#9467bd\",\"#ff7f0e\",\"#8c564b\",\"#2ca02c\",\"#ff7f0e\",\"#8c564b\",\"#2ca02c\",\"#ff7f0e\",\"#8c564b\",\"#8c564b\",\"#8c564b\",\"#8c564b\",\"#2ca02c\",\"#8c564b\",\"#8c564b\",\"#8c564b\",\"#8c564b\",\"#2ca02c\",\"#8c564b\",\"#ff7f0e\",\"#2ca02c\",\"#2ca02c\",\"#8c564b\",\"#8c564b\",\"#8c564b\",\"#8c564b\",\"#8c564b\",\"#8c564b\",\"#2ca02c\",\"#ff7f0e\",\"#8c564b\",\"#8c564b\",\"#9467bd\",\"#d62728\"],\"shape\":[1448],\"dtype\":\"object\",\"order\":\"little\"}],[\"line_color\",{\"type\":\"ndarray\",\"array\":[\"#9467bd\",\"#9467bd\",\"#9467bd\",\"#9467bd\",\"#9467bd\",\"#ff7f0e\",\"#d62728\",\"#9467bd\",\"#ff7f0e\",\"#9467bd\",\"#9467bd\",\"#9467bd\",\"#9467bd\",\"#9467bd\",\"#9467bd\",\"#9467bd\",\"#1f77b4\",\"#9467bd\",\"#9467bd\",\"#1f77b4\",\"#9467bd\",\"#ff7f0e\",\"#1f77b4\",\"#9467bd\",\"#1f77b4\",\"#9467bd\",\"#1f77b4\",\"#9467bd\",\"#9467bd\",\"#9467bd\",\"#9467bd\",\"#9467bd\",\"#9467bd\",\"#9467bd\",\"#9467bd\",\"#ff7f0e\",\"#9467bd\",\"#9467bd\",\"#1f77b4\",\"#9467bd\",\"#9467bd\",\"#1f77b4\",\"#9467bd\",\"#ff7f0e\",\"#9467bd\",\"#9467bd\",\"#ff7f0e\",\"#9467bd\",\"#1f77b4\",\"#ff7f0e\",\"#ff7f0e\",\"#ff7f0e\",\"#9467bd\",\"#1f77b4\",\"#9467bd\",\"#9467bd\",\"#ff7f0e\",\"#1f77b4\",\"#9467bd\",\"#9467bd\",\"#1f77b4\",\"#1f77b4\",\"#9467bd\",\"#9467bd\",\"#1f77b4\",\"#9467bd\",\"#9467bd\",\"#1f77b4\",\"#9467bd\",\"#9467bd\",\"#9467bd\",\"#1f77b4\",\"#9467bd\",\"#9467bd\",\"#9467bd\",\"#9467bd\",\"#1f77b4\",\"#9467bd\",\"#8c564b\",\"#9467bd\",\"#9467bd\",\"#1f77b4\",\"#9467bd\",\"#9467bd\",\"#1f77b4\",\"#1f77b4\",\"#1f77b4\",\"#9467bd\",\"#9467bd\",\"#ff7f0e\",\"#1f77b4\",\"#9467bd\",\"#9467bd\",\"#1f77b4\",\"#9467bd\",\"#8c564b\",\"#9467bd\",\"#9467bd\",\"#9467bd\",\"#1f77b4\",\"#9467bd\",\"#1f77b4\",\"#1f77b4\",\"#9467bd\",\"#9467bd\",\"#9467bd\",\"#9467bd\",\"#1f77b4\",\"#ff7f0e\",\"#1f77b4\",\"#9467bd\",\"#1f77b4\",\"#9467bd\",\"#ff7f0e\",\"#9467bd\",\"#9467bd\",\"#9467bd\",\"#9467bd\",\"#9467bd\",\"#8c564b\",\"#1f77b4\",\"#1f77b4\",\"#1f77b4\",\"#9467bd\",\"#9467bd\",\"#1f77b4\",\"#1f77b4\",\"#9467bd\",\"#1f77b4\",\"#9467bd\",\"#9467bd\",\"#9467bd\",\"#9467bd\",\"#1f77b4\",\"#9467bd\",\"#1f77b4\",\"#1f77b4\",\"#9467bd\",\"#9467bd\",\"#ff7f0e\",\"#1f77b4\",\"#ff7f0e\",\"#1f77b4\",\"#8c564b\",\"#9467bd\",\"#9467bd\",\"#9467bd\",\"#9467bd\",\"#1f77b4\",\"#9467bd\",\"#1f77b4\",\"#9467bd\",\"#9467bd\",\"#8c564b\",\"#9467bd\",\"#1f77b4\",\"#1f77b4\",\"#8c564b\",\"#ff7f0e\",\"#9467bd\",\"#9467bd\",\"#9467bd\",\"#9467bd\",\"#9467bd\",\"#9467bd\",\"#1f77b4\",\"#1f77b4\",\"#9467bd\",\"#ff7f0e\",\"#1f77b4\",\"#9467bd\",\"#9467bd\",\"#9467bd\",\"#ff7f0e\",\"#9467bd\",\"#9467bd\",\"#9467bd\",\"#1f77b4\",\"#8c564b\",\"#9467bd\",\"#9467bd\",\"#9467bd\",\"#9467bd\",\"#9467bd\",\"#9467bd\",\"#9467bd\",\"#1f77b4\",\"#9467bd\",\"#1f77b4\",\"#9467bd\",\"#1f77b4\",\"#1f77b4\",\"#9467bd\",\"#9467bd\",\"#9467bd\",\"#1f77b4\",\"#9467bd\",\"#8c564b\",\"#8c564b\",\"#9467bd\",\"#ff7f0e\",\"#8c564b\",\"#1f77b4\",\"#9467bd\",\"#1f77b4\",\"#9467bd\",\"#9467bd\",\"#9467bd\",\"#1f77b4\",\"#1f77b4\",\"#9467bd\",\"#9467bd\",\"#1f77b4\",\"#ff7f0e\",\"#1f77b4\",\"#9467bd\",\"#9467bd\",\"#9467bd\",\"#9467bd\",\"#9467bd\",\"#1f77b4\",\"#9467bd\",\"#1f77b4\",\"#9467bd\",\"#9467bd\",\"#ff7f0e\",\"#ff7f0e\",\"#9467bd\",\"#9467bd\",\"#9467bd\",\"#1f77b4\",\"#1f77b4\",\"#9467bd\",\"#9467bd\",\"#9467bd\",\"#9467bd\",\"#9467bd\",\"#1f77b4\",\"#9467bd\",\"#9467bd\",\"#1f77b4\",\"#2ca02c\",\"#1f77b4\",\"#9467bd\",\"#9467bd\",\"#9467bd\",\"#9467bd\",\"#1f77b4\",\"#1f77b4\",\"#1f77b4\",\"#9467bd\",\"#9467bd\",\"#8c564b\",\"#1f77b4\",\"#9467bd\",\"#9467bd\",\"#9467bd\",\"#9467bd\",\"#9467bd\",\"#9467bd\",\"#9467bd\",\"#1f77b4\",\"#1f77b4\",\"#1f77b4\",\"#9467bd\",\"#9467bd\",\"#9467bd\",\"#1f77b4\",\"#1f77b4\",\"#ff7f0e\",\"#9467bd\",\"#8c564b\",\"#9467bd\",\"#1f77b4\",\"#1f77b4\",\"#9467bd\",\"#1f77b4\",\"#9467bd\",\"#1f77b4\",\"#9467bd\",\"#9467bd\",\"#1f77b4\",\"#ff7f0e\",\"#9467bd\",\"#1f77b4\",\"#9467bd\",\"#1f77b4\",\"#9467bd\",\"#1f77b4\",\"#9467bd\",\"#1f77b4\",\"#9467bd\",\"#9467bd\",\"#1f77b4\",\"#2ca02c\",\"#1f77b4\",\"#1f77b4\",\"#9467bd\",\"#9467bd\",\"#9467bd\",\"#9467bd\",\"#ff7f0e\",\"#ff7f0e\",\"#ff7f0e\",\"#8c564b\",\"#1f77b4\",\"#9467bd\",\"#1f77b4\",\"#9467bd\",\"#ff7f0e\",\"#9467bd\",\"#9467bd\",\"#9467bd\",\"#9467bd\",\"#1f77b4\",\"#8c564b\",\"#ff7f0e\",\"#1f77b4\",\"#9467bd\",\"#ff7f0e\",\"#8c564b\",\"#1f77b4\",\"#1f77b4\",\"#ff7f0e\",\"#9467bd\",\"#2ca02c\",\"#1f77b4\",\"#9467bd\",\"#9467bd\",\"#9467bd\",\"#d62728\",\"#d62728\",\"#d62728\",\"#2ca02c\",\"#d62728\",\"#d62728\",\"#d62728\",\"#d62728\",\"#d62728\",\"#9467bd\",\"#d62728\",\"#1f77b4\",\"#d62728\",\"#9467bd\",\"#8c564b\",\"#1f77b4\",\"#8c564b\",\"#9467bd\",\"#9467bd\",\"#9467bd\",\"#8c564b\",\"#2ca02c\",\"#2ca02c\",\"#ff7f0e\",\"#9467bd\",\"#d62728\",\"#d62728\",\"#9467bd\",\"#9467bd\",\"#8c564b\",\"#d62728\",\"#8c564b\",\"#9467bd\",\"#8c564b\",\"#d62728\",\"#9467bd\",\"#d62728\",\"#d62728\",\"#d62728\",\"#8c564b\",\"#9467bd\",\"#d62728\",\"#d62728\",\"#9467bd\",\"#9467bd\",\"#9467bd\",\"#d62728\",\"#8c564b\",\"#9467bd\",\"#9467bd\",\"#9467bd\",\"#d62728\",\"#8c564b\",\"#d62728\",\"#9467bd\",\"#1f77b4\",\"#d62728\",\"#d62728\",\"#9467bd\",\"#9467bd\",\"#9467bd\",\"#8c564b\",\"#8c564b\",\"#9467bd\",\"#9467bd\",\"#8c564b\",\"#9467bd\",\"#9467bd\",\"#d62728\",\"#ff7f0e\",\"#8c564b\",\"#1f77b4\",\"#d62728\",\"#9467bd\",\"#9467bd\",\"#8c564b\",\"#d62728\",\"#9467bd\",\"#8c564b\",\"#9467bd\",\"#1f77b4\",\"#9467bd\",\"#9467bd\",\"#2ca02c\",\"#d62728\",\"#8c564b\",\"#d62728\",\"#d62728\",\"#9467bd\",\"#9467bd\",\"#9467bd\",\"#8c564b\",\"#9467bd\",\"#d62728\",\"#9467bd\",\"#d62728\",\"#9467bd\",\"#9467bd\",\"#ff7f0e\",\"#8c564b\",\"#9467bd\",\"#9467bd\",\"#d62728\",\"#9467bd\",\"#ff7f0e\",\"#9467bd\",\"#2ca02c\",\"#1f77b4\",\"#9467bd\",\"#9467bd\",\"#9467bd\",\"#8c564b\",\"#8c564b\",\"#d62728\",\"#d62728\",\"#1f77b4\",\"#9467bd\",\"#9467bd\",\"#d62728\",\"#8c564b\",\"#9467bd\",\"#d62728\",\"#9467bd\",\"#d62728\",\"#d62728\",\"#8c564b\",\"#1f77b4\",\"#9467bd\",\"#d62728\",\"#d62728\",\"#9467bd\",\"#8c564b\",\"#9467bd\",\"#9467bd\",\"#ff7f0e\",\"#8c564b\",\"#9467bd\",\"#ff7f0e\",\"#9467bd\",\"#d62728\",\"#8c564b\",\"#8c564b\",\"#9467bd\",\"#9467bd\",\"#9467bd\",\"#9467bd\",\"#9467bd\",\"#8c564b\",\"#9467bd\",\"#9467bd\",\"#8c564b\",\"#9467bd\",\"#9467bd\",\"#d62728\",\"#8c564b\",\"#9467bd\",\"#d62728\",\"#d62728\",\"#d62728\",\"#ff7f0e\",\"#9467bd\",\"#9467bd\",\"#d62728\",\"#9467bd\",\"#9467bd\",\"#d62728\",\"#9467bd\",\"#d62728\",\"#d62728\",\"#9467bd\",\"#9467bd\",\"#9467bd\",\"#d62728\",\"#9467bd\",\"#d62728\",\"#d62728\",\"#8c564b\",\"#d62728\",\"#d62728\",\"#d62728\",\"#ff7f0e\",\"#d62728\",\"#d62728\",\"#d62728\",\"#9467bd\",\"#9467bd\",\"#8c564b\",\"#9467bd\",\"#d62728\",\"#9467bd\",\"#8c564b\",\"#d62728\",\"#ff7f0e\",\"#d62728\",\"#8c564b\",\"#9467bd\",\"#9467bd\",\"#d62728\",\"#d62728\",\"#d62728\",\"#d62728\",\"#d62728\",\"#9467bd\",\"#9467bd\",\"#ff7f0e\",\"#9467bd\",\"#d62728\",\"#8c564b\",\"#ff7f0e\",\"#d62728\",\"#1f77b4\",\"#1f77b4\",\"#9467bd\",\"#d62728\",\"#8c564b\",\"#9467bd\",\"#9467bd\",\"#9467bd\",\"#d62728\",\"#d62728\",\"#8c564b\",\"#9467bd\",\"#9467bd\",\"#9467bd\",\"#d62728\",\"#9467bd\",\"#8c564b\",\"#9467bd\",\"#8c564b\",\"#9467bd\",\"#9467bd\",\"#d62728\",\"#ff7f0e\",\"#9467bd\",\"#9467bd\",\"#9467bd\",\"#9467bd\",\"#d62728\",\"#d62728\",\"#d62728\",\"#9467bd\",\"#8c564b\",\"#9467bd\",\"#d62728\",\"#d62728\",\"#9467bd\",\"#8c564b\",\"#9467bd\",\"#1f77b4\",\"#9467bd\",\"#d62728\",\"#d62728\",\"#9467bd\",\"#9467bd\",\"#ff7f0e\",\"#8c564b\",\"#9467bd\",\"#d62728\",\"#1f77b4\",\"#8c564b\",\"#9467bd\",\"#9467bd\",\"#d62728\",\"#d62728\",\"#9467bd\",\"#9467bd\",\"#9467bd\",\"#9467bd\",\"#9467bd\",\"#9467bd\",\"#d62728\",\"#d62728\",\"#1f77b4\",\"#9467bd\",\"#8c564b\",\"#9467bd\",\"#9467bd\",\"#9467bd\",\"#9467bd\",\"#8c564b\",\"#8c564b\",\"#9467bd\",\"#d62728\",\"#9467bd\",\"#2ca02c\",\"#9467bd\",\"#9467bd\",\"#d62728\",\"#9467bd\",\"#1f77b4\",\"#9467bd\",\"#9467bd\",\"#9467bd\",\"#8c564b\",\"#8c564b\",\"#9467bd\",\"#9467bd\",\"#8c564b\",\"#8c564b\",\"#9467bd\",\"#9467bd\",\"#ff7f0e\",\"#9467bd\",\"#8c564b\",\"#9467bd\",\"#ff7f0e\",\"#8c564b\",\"#9467bd\",\"#ff7f0e\",\"#ff7f0e\",\"#ff7f0e\",\"#9467bd\",\"#9467bd\",\"#9467bd\",\"#9467bd\",\"#8c564b\",\"#9467bd\",\"#9467bd\",\"#d62728\",\"#1f77b4\",\"#2ca02c\",\"#d62728\",\"#8c564b\",\"#8c564b\",\"#9467bd\",\"#ff7f0e\",\"#2ca02c\",\"#9467bd\",\"#9467bd\",\"#8c564b\",\"#9467bd\",\"#9467bd\",\"#9467bd\",\"#9467bd\",\"#1f77b4\",\"#9467bd\",\"#9467bd\",\"#9467bd\",\"#2ca02c\",\"#9467bd\",\"#d62728\",\"#9467bd\",\"#8c564b\",\"#d62728\",\"#9467bd\",\"#9467bd\",\"#9467bd\",\"#9467bd\",\"#8c564b\",\"#8c564b\",\"#2ca02c\",\"#9467bd\",\"#9467bd\",\"#9467bd\",\"#2ca02c\",\"#9467bd\",\"#9467bd\",\"#d62728\",\"#9467bd\",\"#8c564b\",\"#9467bd\",\"#9467bd\",\"#9467bd\",\"#9467bd\",\"#ff7f0e\",\"#ff7f0e\",\"#8c564b\",\"#8c564b\",\"#d62728\",\"#1f77b4\",\"#9467bd\",\"#9467bd\",\"#8c564b\",\"#8c564b\",\"#9467bd\",\"#9467bd\",\"#1f77b4\",\"#1f77b4\",\"#9467bd\",\"#9467bd\",\"#8c564b\",\"#9467bd\",\"#9467bd\",\"#1f77b4\",\"#9467bd\",\"#ff7f0e\",\"#1f77b4\",\"#9467bd\",\"#d62728\",\"#9467bd\",\"#9467bd\",\"#9467bd\",\"#1f77b4\",\"#9467bd\",\"#9467bd\",\"#d62728\",\"#9467bd\",\"#9467bd\",\"#9467bd\",\"#8c564b\",\"#9467bd\",\"#8c564b\",\"#9467bd\",\"#9467bd\",\"#9467bd\",\"#9467bd\",\"#d62728\",\"#9467bd\",\"#8c564b\",\"#9467bd\",\"#9467bd\",\"#9467bd\",\"#d62728\",\"#ff7f0e\",\"#9467bd\",\"#9467bd\",\"#1f77b4\",\"#ff7f0e\",\"#9467bd\",\"#ff7f0e\",\"#8c564b\",\"#ff7f0e\",\"#9467bd\",\"#1f77b4\",\"#8c564b\",\"#9467bd\",\"#9467bd\",\"#9467bd\",\"#9467bd\",\"#9467bd\",\"#2ca02c\",\"#9467bd\",\"#9467bd\",\"#9467bd\",\"#9467bd\",\"#9467bd\",\"#9467bd\",\"#8c564b\",\"#9467bd\",\"#ff7f0e\",\"#2ca02c\",\"#8c564b\",\"#8c564b\",\"#9467bd\",\"#2ca02c\",\"#8c564b\",\"#9467bd\",\"#9467bd\",\"#9467bd\",\"#9467bd\",\"#9467bd\",\"#8c564b\",\"#8c564b\",\"#9467bd\",\"#ff7f0e\",\"#9467bd\",\"#2ca02c\",\"#8c564b\",\"#9467bd\",\"#2ca02c\",\"#9467bd\",\"#9467bd\",\"#8c564b\",\"#9467bd\",\"#8c564b\",\"#1f77b4\",\"#ff7f0e\",\"#9467bd\",\"#8c564b\",\"#8c564b\",\"#2ca02c\",\"#8c564b\",\"#8c564b\",\"#9467bd\",\"#9467bd\",\"#1f77b4\",\"#8c564b\",\"#1f77b4\",\"#9467bd\",\"#9467bd\",\"#8c564b\",\"#9467bd\",\"#9467bd\",\"#9467bd\",\"#9467bd\",\"#ff7f0e\",\"#8c564b\",\"#8c564b\",\"#d62728\",\"#9467bd\",\"#9467bd\",\"#9467bd\",\"#8c564b\",\"#9467bd\",\"#9467bd\",\"#9467bd\",\"#9467bd\",\"#9467bd\",\"#9467bd\",\"#9467bd\",\"#9467bd\",\"#9467bd\",\"#9467bd\",\"#9467bd\",\"#9467bd\",\"#1f77b4\",\"#9467bd\",\"#9467bd\",\"#9467bd\",\"#ff7f0e\",\"#8c564b\",\"#8c564b\",\"#9467bd\",\"#9467bd\",\"#9467bd\",\"#1f77b4\",\"#9467bd\",\"#9467bd\",\"#9467bd\",\"#8c564b\",\"#1f77b4\",\"#9467bd\",\"#2ca02c\",\"#d62728\",\"#9467bd\",\"#9467bd\",\"#d62728\",\"#9467bd\",\"#9467bd\",\"#8c564b\",\"#ff7f0e\",\"#8c564b\",\"#8c564b\",\"#ff7f0e\",\"#9467bd\",\"#ff7f0e\",\"#9467bd\",\"#8c564b\",\"#8c564b\",\"#8c564b\",\"#1f77b4\",\"#9467bd\",\"#ff7f0e\",\"#9467bd\",\"#9467bd\",\"#9467bd\",\"#ff7f0e\",\"#9467bd\",\"#8c564b\",\"#ff7f0e\",\"#2ca02c\",\"#8c564b\",\"#1f77b4\",\"#ff7f0e\",\"#9467bd\",\"#ff7f0e\",\"#8c564b\",\"#9467bd\",\"#9467bd\",\"#9467bd\",\"#1f77b4\",\"#9467bd\",\"#9467bd\",\"#ff7f0e\",\"#9467bd\",\"#8c564b\",\"#9467bd\",\"#9467bd\",\"#2ca02c\",\"#9467bd\",\"#8c564b\",\"#d62728\",\"#1f77b4\",\"#9467bd\",\"#ff7f0e\",\"#9467bd\",\"#9467bd\",\"#ff7f0e\",\"#d62728\",\"#9467bd\",\"#9467bd\",\"#2ca02c\",\"#1f77b4\",\"#ff7f0e\",\"#8c564b\",\"#9467bd\",\"#2ca02c\",\"#9467bd\",\"#9467bd\",\"#9467bd\",\"#1f77b4\",\"#8c564b\",\"#1f77b4\",\"#8c564b\",\"#8c564b\",\"#2ca02c\",\"#1f77b4\",\"#9467bd\",\"#9467bd\",\"#9467bd\",\"#9467bd\",\"#8c564b\",\"#9467bd\",\"#9467bd\",\"#9467bd\",\"#d62728\",\"#8c564b\",\"#d62728\",\"#8c564b\",\"#8c564b\",\"#2ca02c\",\"#ff7f0e\",\"#1f77b4\",\"#ff7f0e\",\"#9467bd\",\"#ff7f0e\",\"#9467bd\",\"#2ca02c\",\"#9467bd\",\"#1f77b4\",\"#9467bd\",\"#9467bd\",\"#9467bd\",\"#9467bd\",\"#9467bd\",\"#2ca02c\",\"#2ca02c\",\"#9467bd\",\"#9467bd\",\"#ff7f0e\",\"#9467bd\",\"#9467bd\",\"#8c564b\",\"#9467bd\",\"#9467bd\",\"#ff7f0e\",\"#9467bd\",\"#8c564b\",\"#9467bd\",\"#9467bd\",\"#ff7f0e\",\"#8c564b\",\"#9467bd\",\"#9467bd\",\"#9467bd\",\"#8c564b\",\"#ff7f0e\",\"#ff7f0e\",\"#9467bd\",\"#9467bd\",\"#9467bd\",\"#2ca02c\",\"#ff7f0e\",\"#9467bd\",\"#ff7f0e\",\"#8c564b\",\"#ff7f0e\",\"#9467bd\",\"#9467bd\",\"#9467bd\",\"#8c564b\",\"#9467bd\",\"#d62728\",\"#d62728\",\"#8c564b\",\"#9467bd\",\"#2ca02c\",\"#2ca02c\",\"#9467bd\",\"#9467bd\",\"#ff7f0e\",\"#8c564b\",\"#9467bd\",\"#9467bd\",\"#9467bd\",\"#1f77b4\",\"#9467bd\",\"#ff7f0e\",\"#8c564b\",\"#1f77b4\",\"#8c564b\",\"#ff7f0e\",\"#8c564b\",\"#ff7f0e\",\"#8c564b\",\"#8c564b\",\"#2ca02c\",\"#8c564b\",\"#8c564b\",\"#8c564b\",\"#8c564b\",\"#8c564b\",\"#ff7f0e\",\"#8c564b\",\"#2ca02c\",\"#8c564b\",\"#8c564b\",\"#ff7f0e\",\"#8c564b\",\"#8c564b\",\"#8c564b\",\"#8c564b\",\"#8c564b\",\"#8c564b\",\"#8c564b\",\"#ff7f0e\",\"#ff7f0e\",\"#8c564b\",\"#8c564b\",\"#8c564b\",\"#ff7f0e\",\"#ff7f0e\",\"#ff7f0e\",\"#2ca02c\",\"#8c564b\",\"#ff7f0e\",\"#8c564b\",\"#ff7f0e\",\"#2ca02c\",\"#8c564b\",\"#2ca02c\",\"#8c564b\",\"#ff7f0e\",\"#2ca02c\",\"#8c564b\",\"#2ca02c\",\"#8c564b\",\"#8c564b\",\"#8c564b\",\"#8c564b\",\"#8c564b\",\"#8c564b\",\"#8c564b\",\"#2ca02c\",\"#2ca02c\",\"#8c564b\",\"#2ca02c\",\"#8c564b\",\"#2ca02c\",\"#8c564b\",\"#8c564b\",\"#8c564b\",\"#ff7f0e\",\"#8c564b\",\"#8c564b\",\"#8c564b\",\"#8c564b\",\"#8c564b\",\"#8c564b\",\"#2ca02c\",\"#2ca02c\",\"#8c564b\",\"#9467bd\",\"#8c564b\",\"#8c564b\",\"#2ca02c\",\"#8c564b\",\"#8c564b\",\"#ff7f0e\",\"#8c564b\",\"#8c564b\",\"#2ca02c\",\"#8c564b\",\"#9467bd\",\"#8c564b\",\"#2ca02c\",\"#ff7f0e\",\"#8c564b\",\"#8c564b\",\"#2ca02c\",\"#1f77b4\",\"#8c564b\",\"#8c564b\",\"#2ca02c\",\"#ff7f0e\",\"#8c564b\",\"#ff7f0e\",\"#8c564b\",\"#8c564b\",\"#8c564b\",\"#9467bd\",\"#8c564b\",\"#2ca02c\",\"#2ca02c\",\"#8c564b\",\"#8c564b\",\"#8c564b\",\"#9467bd\",\"#8c564b\",\"#8c564b\",\"#8c564b\",\"#2ca02c\",\"#9467bd\",\"#2ca02c\",\"#ff7f0e\",\"#8c564b\",\"#2ca02c\",\"#2ca02c\",\"#2ca02c\",\"#2ca02c\",\"#8c564b\",\"#9467bd\",\"#2ca02c\",\"#8c564b\",\"#8c564b\",\"#ff7f0e\",\"#8c564b\",\"#8c564b\",\"#ff7f0e\",\"#2ca02c\",\"#1f77b4\",\"#9467bd\",\"#8c564b\",\"#8c564b\",\"#2ca02c\",\"#ff7f0e\",\"#2ca02c\",\"#8c564b\",\"#8c564b\",\"#8c564b\",\"#9467bd\",\"#8c564b\",\"#8c564b\",\"#2ca02c\",\"#8c564b\",\"#9467bd\",\"#8c564b\",\"#2ca02c\",\"#2ca02c\",\"#8c564b\",\"#9467bd\",\"#ff7f0e\",\"#ff7f0e\",\"#2ca02c\",\"#9467bd\",\"#8c564b\",\"#8c564b\",\"#2ca02c\",\"#8c564b\",\"#8c564b\",\"#2ca02c\",\"#8c564b\",\"#8c564b\",\"#8c564b\",\"#ff7f0e\",\"#8c564b\",\"#8c564b\",\"#ff7f0e\",\"#2ca02c\",\"#2ca02c\",\"#2ca02c\",\"#2ca02c\",\"#8c564b\",\"#9467bd\",\"#ff7f0e\",\"#2ca02c\",\"#2ca02c\",\"#8c564b\",\"#2ca02c\",\"#ff7f0e\",\"#8c564b\",\"#8c564b\",\"#2ca02c\",\"#8c564b\",\"#ff7f0e\",\"#1f77b4\",\"#2ca02c\",\"#2ca02c\",\"#9467bd\",\"#d62728\",\"#8c564b\",\"#ff7f0e\",\"#2ca02c\",\"#8c564b\",\"#8c564b\",\"#8c564b\",\"#2ca02c\",\"#8c564b\",\"#2ca02c\",\"#ff7f0e\",\"#2ca02c\",\"#2ca02c\",\"#8c564b\",\"#ff7f0e\",\"#8c564b\",\"#8c564b\",\"#8c564b\",\"#8c564b\",\"#8c564b\",\"#2ca02c\",\"#ff7f0e\",\"#ff7f0e\",\"#8c564b\",\"#2ca02c\",\"#8c564b\",\"#2ca02c\",\"#9467bd\",\"#2ca02c\",\"#8c564b\",\"#2ca02c\",\"#1f77b4\",\"#9467bd\",\"#2ca02c\",\"#8c564b\",\"#2ca02c\",\"#2ca02c\",\"#2ca02c\",\"#8c564b\",\"#2ca02c\",\"#8c564b\",\"#2ca02c\",\"#8c564b\",\"#2ca02c\",\"#8c564b\",\"#8c564b\",\"#2ca02c\",\"#ff7f0e\",\"#8c564b\",\"#9467bd\",\"#2ca02c\",\"#8c564b\",\"#8c564b\",\"#8c564b\",\"#8c564b\",\"#8c564b\",\"#2ca02c\",\"#2ca02c\",\"#8c564b\",\"#ff7f0e\",\"#2ca02c\",\"#8c564b\",\"#8c564b\",\"#ff7f0e\",\"#8c564b\",\"#2ca02c\",\"#2ca02c\",\"#8c564b\",\"#8c564b\",\"#8c564b\",\"#ff7f0e\",\"#2ca02c\",\"#2ca02c\",\"#8c564b\",\"#2ca02c\",\"#8c564b\",\"#2ca02c\",\"#8c564b\",\"#8c564b\",\"#8c564b\",\"#8c564b\",\"#8c564b\",\"#2ca02c\",\"#2ca02c\",\"#ff7f0e\",\"#ff7f0e\",\"#1f77b4\",\"#8c564b\",\"#9467bd\",\"#9467bd\",\"#9467bd\",\"#8c564b\",\"#2ca02c\",\"#8c564b\",\"#8c564b\",\"#8c564b\",\"#8c564b\",\"#8c564b\",\"#8c564b\",\"#2ca02c\",\"#9467bd\",\"#ff7f0e\",\"#8c564b\",\"#1f77b4\",\"#2ca02c\",\"#8c564b\",\"#8c564b\",\"#8c564b\",\"#8c564b\",\"#2ca02c\",\"#8c564b\",\"#8c564b\",\"#8c564b\",\"#2ca02c\",\"#2ca02c\",\"#2ca02c\",\"#2ca02c\",\"#ff7f0e\",\"#8c564b\",\"#2ca02c\",\"#2ca02c\",\"#8c564b\",\"#8c564b\",\"#8c564b\",\"#2ca02c\",\"#8c564b\",\"#8c564b\",\"#8c564b\",\"#2ca02c\",\"#9467bd\",\"#8c564b\",\"#ff7f0e\",\"#1f77b4\",\"#8c564b\",\"#8c564b\",\"#2ca02c\",\"#8c564b\",\"#8c564b\",\"#9467bd\",\"#8c564b\",\"#ff7f0e\",\"#8c564b\",\"#8c564b\",\"#8c564b\",\"#2ca02c\",\"#8c564b\",\"#8c564b\",\"#8c564b\",\"#2ca02c\",\"#8c564b\",\"#8c564b\",\"#ff7f0e\",\"#8c564b\",\"#8c564b\",\"#1f77b4\",\"#8c564b\",\"#2ca02c\",\"#8c564b\",\"#8c564b\",\"#2ca02c\",\"#8c564b\",\"#8c564b\",\"#8c564b\",\"#8c564b\",\"#8c564b\",\"#ff7f0e\",\"#2ca02c\",\"#8c564b\",\"#8c564b\",\"#8c564b\",\"#8c564b\",\"#2ca02c\",\"#8c564b\",\"#8c564b\",\"#2ca02c\",\"#8c564b\",\"#8c564b\",\"#8c564b\",\"#8c564b\",\"#8c564b\",\"#2ca02c\",\"#2ca02c\",\"#2ca02c\",\"#2ca02c\",\"#2ca02c\",\"#8c564b\",\"#8c564b\",\"#8c564b\",\"#ff7f0e\",\"#2ca02c\",\"#8c564b\",\"#8c564b\",\"#ff7f0e\",\"#8c564b\",\"#2ca02c\",\"#8c564b\",\"#ff7f0e\",\"#9467bd\",\"#8c564b\",\"#8c564b\",\"#8c564b\",\"#2ca02c\",\"#ff7f0e\",\"#8c564b\",\"#ff7f0e\",\"#8c564b\",\"#8c564b\",\"#8c564b\",\"#8c564b\",\"#9467bd\",\"#8c564b\",\"#8c564b\",\"#2ca02c\",\"#2ca02c\",\"#2ca02c\",\"#9467bd\",\"#ff7f0e\",\"#8c564b\",\"#2ca02c\",\"#ff7f0e\",\"#8c564b\",\"#2ca02c\",\"#ff7f0e\",\"#8c564b\",\"#8c564b\",\"#8c564b\",\"#8c564b\",\"#2ca02c\",\"#8c564b\",\"#8c564b\",\"#8c564b\",\"#8c564b\",\"#2ca02c\",\"#8c564b\",\"#ff7f0e\",\"#2ca02c\",\"#2ca02c\",\"#8c564b\",\"#8c564b\",\"#8c564b\",\"#8c564b\",\"#8c564b\",\"#8c564b\",\"#2ca02c\",\"#ff7f0e\",\"#8c564b\",\"#8c564b\",\"#9467bd\",\"#d62728\"],\"shape\":[1448],\"dtype\":\"object\",\"order\":\"little\"}]]}}},\"view\":{\"type\":\"object\",\"name\":\"CDSView\",\"id\":\"p1340\",\"attributes\":{\"filter\":{\"type\":\"object\",\"name\":\"AllIndices\",\"id\":\"p1341\"}}},\"glyph\":{\"type\":\"object\",\"name\":\"Scatter\",\"id\":\"p1336\",\"attributes\":{\"x\":{\"type\":\"field\",\"field\":\"x\"},\"y\":{\"type\":\"field\",\"field\":\"y\"},\"line_color\":{\"type\":\"field\",\"field\":\"line_color\"},\"fill_color\":{\"type\":\"field\",\"field\":\"fill_color\"},\"hatch_color\":{\"type\":\"field\",\"field\":\"hatch_color\"}}},\"nonselection_glyph\":{\"type\":\"object\",\"name\":\"Scatter\",\"id\":\"p1337\",\"attributes\":{\"x\":{\"type\":\"field\",\"field\":\"x\"},\"y\":{\"type\":\"field\",\"field\":\"y\"},\"line_color\":{\"type\":\"field\",\"field\":\"line_color\"},\"line_alpha\":{\"type\":\"value\",\"value\":0.1},\"fill_color\":{\"type\":\"field\",\"field\":\"fill_color\"},\"fill_alpha\":{\"type\":\"value\",\"value\":0.1},\"hatch_color\":{\"type\":\"field\",\"field\":\"hatch_color\"},\"hatch_alpha\":{\"type\":\"value\",\"value\":0.1}}},\"muted_glyph\":{\"type\":\"object\",\"name\":\"Scatter\",\"id\":\"p1338\",\"attributes\":{\"x\":{\"type\":\"field\",\"field\":\"x\"},\"y\":{\"type\":\"field\",\"field\":\"y\"},\"line_color\":{\"type\":\"field\",\"field\":\"line_color\"},\"line_alpha\":{\"type\":\"value\",\"value\":0.2},\"fill_color\":{\"type\":\"field\",\"field\":\"fill_color\"},\"fill_alpha\":{\"type\":\"value\",\"value\":0.2},\"hatch_color\":{\"type\":\"field\",\"field\":\"hatch_color\"},\"hatch_alpha\":{\"type\":\"value\",\"value\":0.2}}}}}],\"toolbar\":{\"type\":\"object\",\"name\":\"Toolbar\",\"id\":\"p1294\",\"attributes\":{\"tools\":[{\"type\":\"object\",\"name\":\"PanTool\",\"id\":\"p1318\"},{\"type\":\"object\",\"name\":\"WheelZoomTool\",\"id\":\"p1319\"},{\"type\":\"object\",\"name\":\"BoxZoomTool\",\"id\":\"p1320\",\"attributes\":{\"overlay\":{\"type\":\"object\",\"name\":\"BoxAnnotation\",\"id\":\"p1321\",\"attributes\":{\"syncable\":false,\"level\":\"overlay\",\"visible\":false,\"left_units\":\"canvas\",\"right_units\":\"canvas\",\"bottom_units\":\"canvas\",\"top_units\":\"canvas\",\"line_color\":\"black\",\"line_alpha\":1.0,\"line_width\":2,\"line_dash\":[4,4],\"fill_color\":\"lightgrey\",\"fill_alpha\":0.5}}}},{\"type\":\"object\",\"name\":\"SaveTool\",\"id\":\"p1322\"},{\"type\":\"object\",\"name\":\"ResetTool\",\"id\":\"p1323\"},{\"type\":\"object\",\"name\":\"HelpTool\",\"id\":\"p1324\"}]}},\"left\":[{\"type\":\"object\",\"name\":\"LinearAxis\",\"id\":\"p1311\",\"attributes\":{\"ticker\":{\"type\":\"object\",\"name\":\"BasicTicker\",\"id\":\"p1314\",\"attributes\":{\"mantissas\":[1,2,5]}},\"formatter\":{\"type\":\"object\",\"name\":\"BasicTickFormatter\",\"id\":\"p1313\"},\"major_label_policy\":{\"type\":\"object\",\"name\":\"AllLabels\",\"id\":\"p1312\"}}}],\"below\":[{\"type\":\"object\",\"name\":\"LinearAxis\",\"id\":\"p1304\",\"attributes\":{\"ticker\":{\"type\":\"object\",\"name\":\"BasicTicker\",\"id\":\"p1307\",\"attributes\":{\"mantissas\":[1,2,5]}},\"formatter\":{\"type\":\"object\",\"name\":\"BasicTickFormatter\",\"id\":\"p1306\"},\"major_label_policy\":{\"type\":\"object\",\"name\":\"AllLabels\",\"id\":\"p1305\"}}}],\"center\":[{\"type\":\"object\",\"name\":\"Grid\",\"id\":\"p1310\",\"attributes\":{\"axis\":{\"id\":\"p1304\"}}},{\"type\":\"object\",\"name\":\"Grid\",\"id\":\"p1317\",\"attributes\":{\"dimension\":1,\"axis\":{\"id\":\"p1311\"}}}]}}],\"callbacks\":{\"type\":\"map\"}}};\n",
       "  const render_items = [{\"docid\":\"a883aaac-d038-49f0-b64f-30101ed63bb1\",\"roots\":{\"p1286\":\"f2fa72e7-be41-41da-9736-296738230526\"},\"root_ids\":[\"p1286\"]}];\n",
       "  root.Bokeh.embed.embed_items_notebook(docs_json, render_items);\n",
       "  }\n",
       "  if (root.Bokeh !== undefined) {\n",
       "    embed_document(root);\n",
       "  } else {\n",
       "    let attempts = 0;\n",
       "    const timer = setInterval(function(root) {\n",
       "      if (root.Bokeh !== undefined) {\n",
       "        clearInterval(timer);\n",
       "        embed_document(root);\n",
       "      } else {\n",
       "        attempts++;\n",
       "        if (attempts > 100) {\n",
       "          clearInterval(timer);\n",
       "          console.log(\"Bokeh: ERROR: Unable to run BokehJS code because BokehJS library is missing\");\n",
       "        }\n",
       "      }\n",
       "    }, 10, root)\n",
       "  }\n",
       "})(window);"
      ],
      "application/vnd.bokehjs_exec.v0+json": ""
     },
     "metadata": {
      "application/vnd.bokehjs_exec.v0+json": {
       "id": "p1286"
      }
     },
     "output_type": "display_data"
    }
   ],
   "source": [
    "from bokeh.io import output_notebook\n",
    "from bokeh.plotting import figure, show\n",
    "# Plot the Topic Clusters using Bokeh\n",
    "output_notebook()\n",
    "mycolors = np.array([color for name, color in mcolors.TABLEAU_COLORS.items()])\n",
    "plot = figure(title=\"t-SNE Clustering of {} LDA Topics\".format(number_topics), \n",
    "              width=900, height=700)\n",
    "plot.scatter(x=tsne_lda[:,0], y=tsne_lda[:,1], color=mycolors[topic_num])\n",
    "show(plot)\n",
    "plt.show()"
   ]
  },
  {
   "cell_type": "markdown",
   "id": "23ff8dc0-1cf3-474f-a854-4c62f9404dd1",
   "metadata": {},
   "source": [
    "## Results"
   ]
  },
  {
   "cell_type": "markdown",
   "id": "8ae096d9-2436-43d5-9c00-28a26430a5a7",
   "metadata": {},
   "source": [
    "##### Sentiment Analysis(RQ1):\n",
    "The result suggest that customers generally have a positive attitude toward the Amazon products they purchased since the majority of the reviews are classified as positive. This indicates that most of the customers are satisfied with the products, even though very few negative sentiments still exist.\n",
    "        \n",
    "The summary statistics of the continuous sentiment scores provide a more detailed understanding of the sentiment distribution. The range of scores suggests that there is variation in the sentiment expressed by customers, with some reviews being highly positive and others being less positive.\n",
    "\n",
    "Based on that, the sentiment analysis results combined with the context of customer reviews of Amazon products indicate a predominantly positive sentiment towards the products. Nevertheless, we can see that there is slightly posivtive relationship between sentiment of customer reviews and rating. But the relationship does not appear as what we have anticipated since we expect the rating increases as the sentiment to be more positive, and if we examin the scatterplot, we can see that some fairly low ratings still have relatively positive sentiment and most points are clustering on the right side, which indicates high sentiment scores. \n",
    "\n",
    "Therefore, we can conclude that, based on the result we generated that most customer reviews of Amazon products are positive despite of the rating, and the linear relationship between the two variables are slightly positive. \n",
    "\n",
    "##### Topic Modeling(RQ2): \n",
    "The result obtained from the topic modeling analysis using LDA can provide insights into the underlying topics present in the customer reviews of Amazon products, and we genertaed 6 topics with 5 words that describe each topic. Here are some observations based on the generated topics:\n",
    "\n",
    "Topic #1 (tv good quality sound remote) : This topic seems to be related to the features of televisions, mentioning words like \"remote\" and \"quality.\" We can speculate that the content of customer reviews are focusing on complimenting the features of televisions combining with the ovrall high sentiment scores from sentiment analysis. \n",
    "\n",
    "Topic #2 (product good use easy quality) : This topic is associated with general product functions such as \"good,\" \"easy,\" and \"use.\" It indicates that customers discuss the overall quality and usability of the products they purchased, and the exact content is highly possible to be positive.\n",
    "\n",
    "Topic #3 (use product good easy power) : This topic appears to be discussing similar aspects like  Topic #2, since there are repetitive words appearing in the two topics, and we can infer similar information from these two topics.\n",
    "     \n",
    "Topic #4 (good watch phone battery camera) : This topic is related to specific products, possibly watches,phones,and cameras, as they are mentioned. Customers seem to discuss the positive attributes of these products, particularly its battery feature.\n",
    "     \n",
    "Topic #5 (good cable product quality charging) : This topic is related to the charging feature of products, as it mentions \"cable,\" and \"charging.\" It indicates that customers discuss and compliment the charging feature.\n",
    "\n",
    "Topic #6 (good product use water quality) : This topic could be associated with a specific product that is easy to use in water and waterproof, as it mentions \"water\" and \"easy.\" It implies that customers discuss the convenience and usability of the product in water environments.\n",
    "\n",
    "Overall, these results provide an understanding of the key topics present in the customer reviews of Amazon products. We can see the most content of product reviews are related to a specific feature of the product. We can also further analyze that these content are expressing satisfaction and complimenting the mentioned feature since the previous sentiment analysis has illustrated the fact that the majority of the reviews are positive. \n",
    "        "
   ]
  },
  {
   "cell_type": "markdown",
   "id": "c6f7c251-5ebe-4530-958b-a497d8484938",
   "metadata": {},
   "source": [
    "## Contribution"
   ]
  },
  {
   "cell_type": "markdown",
   "id": "0c127ef7-32fd-499b-869e-8024c58081ab",
   "metadata": {},
   "source": [
    "##### - Cisco Yang: Major coding and revision\n",
    "\n",
    "##### - Zhukang Qin: Writing of Research questions, data description, and preprocessing\n",
    "\n",
    "##### - Ashley Wang: Writing of Analysis and Results\n",
    "\n",
    "##### - Wenbo Wei: Writing of Introduction\n",
    "\n",
    "##### The overall project is discussed and operated with all members"
   ]
  },
  {
   "cell_type": "code",
   "execution_count": null,
   "id": "b9a58a96-ee72-4061-b898-8c3c554b42f1",
   "metadata": {},
   "outputs": [],
   "source": []
  }
 ],
 "metadata": {
  "kernelspec": {
   "display_name": "Python 3 (ipykernel)",
   "language": "python",
   "name": "python3"
  },
  "language_info": {
   "codemirror_mode": {
    "name": "ipython",
    "version": 3
   },
   "file_extension": ".py",
   "mimetype": "text/x-python",
   "name": "python",
   "nbconvert_exporter": "python",
   "pygments_lexer": "ipython3",
   "version": "3.10.9"
  }
 },
 "nbformat": 4,
 "nbformat_minor": 5
}
